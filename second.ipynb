{
 "cells": [
  {
   "cell_type": "markdown",
   "id": "e5ef7ac9",
   "metadata": {},
   "source": [
    "# Descriptive statistics"
   ]
  },
  {
   "cell_type": "code",
   "execution_count": 1,
   "id": "2f5971bd",
   "metadata": {},
   "outputs": [
    {
     "data": {
      "text/html": [
       "<table class=\"dataframe\">\n",
       "<caption>A data.frame: 36 × 8</caption>\n",
       "<thead>\n",
       "\t<tr><th scope=col>id</th><th scope=col>sex</th><th scope=col>birthplace</th><th scope=col>in_out</th><th scope=col>television</th><th scope=col>sociability</th><th scope=col>before</th><th scope=col>after</th></tr>\n",
       "\t<tr><th scope=col>&lt;int&gt;</th><th scope=col>&lt;chr&gt;</th><th scope=col>&lt;chr&gt;</th><th scope=col>&lt;chr&gt;</th><th scope=col>&lt;int&gt;</th><th scope=col>&lt;int&gt;</th><th scope=col>&lt;int&gt;</th><th scope=col>&lt;int&gt;</th></tr>\n",
       "</thead>\n",
       "<tbody>\n",
       "\t<tr><td> 1</td><td>f</td><td>a</td><td>i</td><td>7</td><td>5</td><td>49</td><td>71</td></tr>\n",
       "\t<tr><td> 2</td><td>f</td><td>b</td><td>i</td><td>1</td><td>7</td><td>47</td><td>68</td></tr>\n",
       "\t<tr><td> 3</td><td>f</td><td>c</td><td>o</td><td>1</td><td>8</td><td>57</td><td>81</td></tr>\n",
       "\t<tr><td> 4</td><td>f</td><td>b</td><td>o</td><td>3</td><td>8</td><td>52</td><td>71</td></tr>\n",
       "\t<tr><td> 5</td><td>f</td><td>c</td><td>o</td><td>2</td><td>9</td><td>53</td><td>61</td></tr>\n",
       "\t<tr><td> 6</td><td>m</td><td>a</td><td>i</td><td>6</td><td>5</td><td>63</td><td>66</td></tr>\n",
       "\t<tr><td> 7</td><td>f</td><td>a</td><td>o</td><td>4</td><td>6</td><td>56</td><td>70</td></tr>\n",
       "\t<tr><td> 8</td><td>m</td><td>c</td><td>o</td><td>5</td><td>3</td><td>65</td><td>64</td></tr>\n",
       "\t<tr><td> 9</td><td>m</td><td>b</td><td>o</td><td>3</td><td>5</td><td>75</td><td>74</td></tr>\n",
       "\t<tr><td>10</td><td>m</td><td>a</td><td>i</td><td>4</td><td>3</td><td>61</td><td>78</td></tr>\n",
       "\t<tr><td>11</td><td>f</td><td>a</td><td>i</td><td>8</td><td>3</td><td>55</td><td>66</td></tr>\n",
       "\t<tr><td>12</td><td>f</td><td>a</td><td>i</td><td>6</td><td>5</td><td>61</td><td>71</td></tr>\n",
       "\t<tr><td>13</td><td>m</td><td>b</td><td>i</td><td>2</td><td>3</td><td>70</td><td>68</td></tr>\n",
       "\t<tr><td>14</td><td>m</td><td>b</td><td>i</td><td>5</td><td>2</td><td>69</td><td>65</td></tr>\n",
       "\t<tr><td>15</td><td>m</td><td>a</td><td>i</td><td>3</td><td>5</td><td>65</td><td>71</td></tr>\n",
       "\t<tr><td>16</td><td>f</td><td>b</td><td>i</td><td>4</td><td>3</td><td>60</td><td>59</td></tr>\n",
       "\t<tr><td>17</td><td>m</td><td>b</td><td>i</td><td>5</td><td>3</td><td>70</td><td>62</td></tr>\n",
       "\t<tr><td>18</td><td>m</td><td>c</td><td>o</td><td>2</td><td>6</td><td>63</td><td>61</td></tr>\n",
       "\t<tr><td>19</td><td>m</td><td>c</td><td>o</td><td>1</td><td>7</td><td>68</td><td>66</td></tr>\n",
       "\t<tr><td>20</td><td>f</td><td>c</td><td>o</td><td>4</td><td>3</td><td>54</td><td>53</td></tr>\n",
       "\t<tr><td>21</td><td>f</td><td>a</td><td>o</td><td>2</td><td>8</td><td>60</td><td>78</td></tr>\n",
       "\t<tr><td>22</td><td>m</td><td>a</td><td>i</td><td>7</td><td>3</td><td>69</td><td>68</td></tr>\n",
       "\t<tr><td>23</td><td>m</td><td>c</td><td>o</td><td>2</td><td>8</td><td>64</td><td>65</td></tr>\n",
       "\t<tr><td>24</td><td>f</td><td>a</td><td>o</td><td>7</td><td>4</td><td>52</td><td>67</td></tr>\n",
       "\t<tr><td>25</td><td>m</td><td>a</td><td>o</td><td>3</td><td>6</td><td>58</td><td>69</td></tr>\n",
       "\t<tr><td>26</td><td>m</td><td>c</td><td>o</td><td>1</td><td>7</td><td>65</td><td>71</td></tr>\n",
       "\t<tr><td>27</td><td>m</td><td>b</td><td>o</td><td>1</td><td>8</td><td>64</td><td>79</td></tr>\n",
       "\t<tr><td>28</td><td>f</td><td>c</td><td>o</td><td>4</td><td>4</td><td>59</td><td>64</td></tr>\n",
       "\t<tr><td>29</td><td>f</td><td>c</td><td>i</td><td>3</td><td>6</td><td>45</td><td>51</td></tr>\n",
       "\t<tr><td>30</td><td>f</td><td>b</td><td>i</td><td>5</td><td>6</td><td>50</td><td>49</td></tr>\n",
       "\t<tr><td>31</td><td>m</td><td>b</td><td>o</td><td>1</td><td>9</td><td>72</td><td>71</td></tr>\n",
       "\t<tr><td>32</td><td>f</td><td>b</td><td>i</td><td>7</td><td>3</td><td>55</td><td>60</td></tr>\n",
       "\t<tr><td>33</td><td>m</td><td>c</td><td>i</td><td>7</td><td>4</td><td>79</td><td>77</td></tr>\n",
       "\t<tr><td>34</td><td>f</td><td>c</td><td>o</td><td>4</td><td>7</td><td>60</td><td>58</td></tr>\n",
       "\t<tr><td>35</td><td>f</td><td>b</td><td>i</td><td>8</td><td>3</td><td>53</td><td>67</td></tr>\n",
       "\t<tr><td>36</td><td>m</td><td>a</td><td>o</td><td>5</td><td>7</td><td>57</td><td>72</td></tr>\n",
       "</tbody>\n",
       "</table>\n"
      ],
      "text/latex": [
       "A data.frame: 36 × 8\n",
       "\\begin{tabular}{llllllll}\n",
       " id & sex & birthplace & in\\_out & television & sociability & before & after\\\\\n",
       " <int> & <chr> & <chr> & <chr> & <int> & <int> & <int> & <int>\\\\\n",
       "\\hline\n",
       "\t  1 & f & a & i & 7 & 5 & 49 & 71\\\\\n",
       "\t  2 & f & b & i & 1 & 7 & 47 & 68\\\\\n",
       "\t  3 & f & c & o & 1 & 8 & 57 & 81\\\\\n",
       "\t  4 & f & b & o & 3 & 8 & 52 & 71\\\\\n",
       "\t  5 & f & c & o & 2 & 9 & 53 & 61\\\\\n",
       "\t  6 & m & a & i & 6 & 5 & 63 & 66\\\\\n",
       "\t  7 & f & a & o & 4 & 6 & 56 & 70\\\\\n",
       "\t  8 & m & c & o & 5 & 3 & 65 & 64\\\\\n",
       "\t  9 & m & b & o & 3 & 5 & 75 & 74\\\\\n",
       "\t 10 & m & a & i & 4 & 3 & 61 & 78\\\\\n",
       "\t 11 & f & a & i & 8 & 3 & 55 & 66\\\\\n",
       "\t 12 & f & a & i & 6 & 5 & 61 & 71\\\\\n",
       "\t 13 & m & b & i & 2 & 3 & 70 & 68\\\\\n",
       "\t 14 & m & b & i & 5 & 2 & 69 & 65\\\\\n",
       "\t 15 & m & a & i & 3 & 5 & 65 & 71\\\\\n",
       "\t 16 & f & b & i & 4 & 3 & 60 & 59\\\\\n",
       "\t 17 & m & b & i & 5 & 3 & 70 & 62\\\\\n",
       "\t 18 & m & c & o & 2 & 6 & 63 & 61\\\\\n",
       "\t 19 & m & c & o & 1 & 7 & 68 & 66\\\\\n",
       "\t 20 & f & c & o & 4 & 3 & 54 & 53\\\\\n",
       "\t 21 & f & a & o & 2 & 8 & 60 & 78\\\\\n",
       "\t 22 & m & a & i & 7 & 3 & 69 & 68\\\\\n",
       "\t 23 & m & c & o & 2 & 8 & 64 & 65\\\\\n",
       "\t 24 & f & a & o & 7 & 4 & 52 & 67\\\\\n",
       "\t 25 & m & a & o & 3 & 6 & 58 & 69\\\\\n",
       "\t 26 & m & c & o & 1 & 7 & 65 & 71\\\\\n",
       "\t 27 & m & b & o & 1 & 8 & 64 & 79\\\\\n",
       "\t 28 & f & c & o & 4 & 4 & 59 & 64\\\\\n",
       "\t 29 & f & c & i & 3 & 6 & 45 & 51\\\\\n",
       "\t 30 & f & b & i & 5 & 6 & 50 & 49\\\\\n",
       "\t 31 & m & b & o & 1 & 9 & 72 & 71\\\\\n",
       "\t 32 & f & b & i & 7 & 3 & 55 & 60\\\\\n",
       "\t 33 & m & c & i & 7 & 4 & 79 & 77\\\\\n",
       "\t 34 & f & c & o & 4 & 7 & 60 & 58\\\\\n",
       "\t 35 & f & b & i & 8 & 3 & 53 & 67\\\\\n",
       "\t 36 & m & a & o & 5 & 7 & 57 & 72\\\\\n",
       "\\end{tabular}\n"
      ],
      "text/markdown": [
       "\n",
       "A data.frame: 36 × 8\n",
       "\n",
       "| id &lt;int&gt; | sex &lt;chr&gt; | birthplace &lt;chr&gt; | in_out &lt;chr&gt; | television &lt;int&gt; | sociability &lt;int&gt; | before &lt;int&gt; | after &lt;int&gt; |\n",
       "|---|---|---|---|---|---|---|---|\n",
       "|  1 | f | a | i | 7 | 5 | 49 | 71 |\n",
       "|  2 | f | b | i | 1 | 7 | 47 | 68 |\n",
       "|  3 | f | c | o | 1 | 8 | 57 | 81 |\n",
       "|  4 | f | b | o | 3 | 8 | 52 | 71 |\n",
       "|  5 | f | c | o | 2 | 9 | 53 | 61 |\n",
       "|  6 | m | a | i | 6 | 5 | 63 | 66 |\n",
       "|  7 | f | a | o | 4 | 6 | 56 | 70 |\n",
       "|  8 | m | c | o | 5 | 3 | 65 | 64 |\n",
       "|  9 | m | b | o | 3 | 5 | 75 | 74 |\n",
       "| 10 | m | a | i | 4 | 3 | 61 | 78 |\n",
       "| 11 | f | a | i | 8 | 3 | 55 | 66 |\n",
       "| 12 | f | a | i | 6 | 5 | 61 | 71 |\n",
       "| 13 | m | b | i | 2 | 3 | 70 | 68 |\n",
       "| 14 | m | b | i | 5 | 2 | 69 | 65 |\n",
       "| 15 | m | a | i | 3 | 5 | 65 | 71 |\n",
       "| 16 | f | b | i | 4 | 3 | 60 | 59 |\n",
       "| 17 | m | b | i | 5 | 3 | 70 | 62 |\n",
       "| 18 | m | c | o | 2 | 6 | 63 | 61 |\n",
       "| 19 | m | c | o | 1 | 7 | 68 | 66 |\n",
       "| 20 | f | c | o | 4 | 3 | 54 | 53 |\n",
       "| 21 | f | a | o | 2 | 8 | 60 | 78 |\n",
       "| 22 | m | a | i | 7 | 3 | 69 | 68 |\n",
       "| 23 | m | c | o | 2 | 8 | 64 | 65 |\n",
       "| 24 | f | a | o | 7 | 4 | 52 | 67 |\n",
       "| 25 | m | a | o | 3 | 6 | 58 | 69 |\n",
       "| 26 | m | c | o | 1 | 7 | 65 | 71 |\n",
       "| 27 | m | b | o | 1 | 8 | 64 | 79 |\n",
       "| 28 | f | c | o | 4 | 4 | 59 | 64 |\n",
       "| 29 | f | c | i | 3 | 6 | 45 | 51 |\n",
       "| 30 | f | b | i | 5 | 6 | 50 | 49 |\n",
       "| 31 | m | b | o | 1 | 9 | 72 | 71 |\n",
       "| 32 | f | b | i | 7 | 3 | 55 | 60 |\n",
       "| 33 | m | c | i | 7 | 4 | 79 | 77 |\n",
       "| 34 | f | c | o | 4 | 7 | 60 | 58 |\n",
       "| 35 | f | b | i | 8 | 3 | 53 | 67 |\n",
       "| 36 | m | a | o | 5 | 7 | 57 | 72 |\n",
       "\n"
      ],
      "text/plain": [
       "   id sex birthplace in_out television sociability before after\n",
       "1   1 f   a          i      7          5           49     71   \n",
       "2   2 f   b          i      1          7           47     68   \n",
       "3   3 f   c          o      1          8           57     81   \n",
       "4   4 f   b          o      3          8           52     71   \n",
       "5   5 f   c          o      2          9           53     61   \n",
       "6   6 m   a          i      6          5           63     66   \n",
       "7   7 f   a          o      4          6           56     70   \n",
       "8   8 m   c          o      5          3           65     64   \n",
       "9   9 m   b          o      3          5           75     74   \n",
       "10 10 m   a          i      4          3           61     78   \n",
       "11 11 f   a          i      8          3           55     66   \n",
       "12 12 f   a          i      6          5           61     71   \n",
       "13 13 m   b          i      2          3           70     68   \n",
       "14 14 m   b          i      5          2           69     65   \n",
       "15 15 m   a          i      3          5           65     71   \n",
       "16 16 f   b          i      4          3           60     59   \n",
       "17 17 m   b          i      5          3           70     62   \n",
       "18 18 m   c          o      2          6           63     61   \n",
       "19 19 m   c          o      1          7           68     66   \n",
       "20 20 f   c          o      4          3           54     53   \n",
       "21 21 f   a          o      2          8           60     78   \n",
       "22 22 m   a          i      7          3           69     68   \n",
       "23 23 m   c          o      2          8           64     65   \n",
       "24 24 f   a          o      7          4           52     67   \n",
       "25 25 m   a          o      3          6           58     69   \n",
       "26 26 m   c          o      1          7           65     71   \n",
       "27 27 m   b          o      1          8           64     79   \n",
       "28 28 f   c          o      4          4           59     64   \n",
       "29 29 f   c          i      3          6           45     51   \n",
       "30 30 f   b          i      5          6           50     49   \n",
       "31 31 m   b          o      1          9           72     71   \n",
       "32 32 f   b          i      7          3           55     60   \n",
       "33 33 m   c          i      7          4           79     77   \n",
       "34 34 f   c          o      4          7           60     58   \n",
       "35 35 f   b          i      8          3           53     67   \n",
       "36 36 m   a          o      5          7           57     72   "
      ]
     },
     "metadata": {},
     "output_type": "display_data"
    }
   ],
   "source": [
    "df = read.csv('./sample.csv')\n",
    "df"
   ]
  },
  {
   "cell_type": "markdown",
   "id": "252b9822",
   "metadata": {},
   "source": [
    "## show histogram"
   ]
  },
  {
   "cell_type": "code",
   "execution_count": 2,
   "id": "40c4d3ba",
   "metadata": {},
   "outputs": [
    {
     "data": {
      "image/png": "[encoded data removed]",
      "text/plain": [
       "Plot with title “Histogram of df$sociability”"
      ]
     },
     "metadata": {
      "image/png": {
       "height": 420,
       "width": 420
      }
     },
     "output_type": "display_data"
    }
   ],
   "source": [
    "hist(df$sociability)"
   ]
  },
  {
   "cell_type": "code",
   "execution_count": 3,
   "id": "3eb65910",
   "metadata": {},
   "outputs": [
    {
     "data": {
      "image/png": "[encoded data removed]",
      "text/plain": [
       "Plot with title “Histogram of df$after”"
      ]
     },
     "metadata": {
      "image/png": {
       "height": 420,
       "width": 420
      }
     },
     "output_type": "display_data"
    }
   ],
   "source": [
    "xlim = c(40, 90)\n",
    "ylim = c(0, 10)\n",
    "\n",
    "par(mfrow=c(2, 1))\n",
    "\n",
    "hist(df$before, xlim=xlim, ylim=ylim)\n",
    "hist(df$after, xlim=xlim, ylim=ylim)"
   ]
  },
  {
   "cell_type": "code",
   "execution_count": 4,
   "id": "f15ee2bf",
   "metadata": {},
   "outputs": [
    {
     "data": {
      "image/png": "[encoded data removed]",
      "text/plain": [
       "Plot with title “Histogram of df$after[df$sex == \"m\"]”"
      ]
     },
     "metadata": {
      "image/png": {
       "height": 420,
       "width": 420
      }
     },
     "output_type": "display_data"
    }
   ],
   "source": [
    "par(mfrow=c(2, 2))\n",
    "\n",
    "hist(df$before[df$sex=='f'], xlim=xlim, ylim=ylim)\n",
    "hist(df$before[df$sex=='m'], xlim=xlim, ylim=ylim)\n",
    "hist(df$after[df$sex=='f'], xlim=xlim, ylim=ylim)\n",
    "hist(df$after[df$sex=='m'], xlim=xlim, ylim=ylim)"
   ]
  },
  {
   "cell_type": "code",
   "execution_count": 5,
   "id": "bf10d813",
   "metadata": {},
   "outputs": [
    {
     "data": {
      "image/png": "[encoded data removed]",
      "text/plain": [
       "Plot with title “Histogram of df$after[df$sex == \"m\"]”"
      ]
     },
     "metadata": {
      "image/png": {
       "height": 420,
       "width": 420
      }
     },
     "output_type": "display_data"
    }
   ],
   "source": [
    "par(mfrow=c(2, 2))\n",
    "\n",
    "# seq is an abbreviation Sequence-generation\n",
    "breaks = seq(40, 90, 5)\n",
    "\n",
    "hist(df$before[df$sex=='f'], xlim=xlim, ylim=ylim, breaks=breaks)\n",
    "hist(df$before[df$sex=='m'], xlim=xlim, ylim=ylim)\n",
    "hist(df$after[df$sex=='f'], xlim=xlim, ylim=ylim)\n",
    "hist(df$after[df$sex=='m'], xlim=xlim, ylim=ylim)"
   ]
  },
  {
   "cell_type": "markdown",
   "id": "2ef636b1",
   "metadata": {},
   "source": [
    "## show scatter plot"
   ]
  },
  {
   "cell_type": "code",
   "execution_count": 6,
   "id": "f1afaa1e",
   "metadata": {},
   "outputs": [
    {
     "data": {
      "image/png": "[encoded data removed]",
      "text/plain": [
       "plot without title"
      ]
     },
     "metadata": {
      "image/png": {
       "height": 420,
       "width": 420
      }
     },
     "output_type": "display_data"
    }
   ],
   "source": [
    "plot(df$television, df$sociability)"
   ]
  },
  {
   "cell_type": "code",
   "execution_count": 7,
   "id": "0abbaa0e",
   "metadata": {},
   "outputs": [
    {
     "data": {
      "image/png": "[encoded data removed]",
      "text/plain": [
       "plot without title"
      ]
     },
     "metadata": {
      "image/png": {
       "height": 420,
       "width": 420
      }
     },
     "output_type": "display_data"
    }
   ],
   "source": [
    "pch = paste(df$sex)\n",
    "plot(df$television, df$sociability, pch=pch)\n",
    "# plot(df$television, df$sociability, pch=df$sex) # OK!"
   ]
  },
  {
   "cell_type": "code",
   "execution_count": 8,
   "id": "8ccbc2be",
   "metadata": {},
   "outputs": [
    {
     "data": {
      "text/html": [
       "<style>\n",
       ".list-inline {list-style: none; margin:0; padding: 0}\n",
       ".list-inline>li {display: inline-block}\n",
       ".list-inline>li:not(:last-child)::after {content: \"\\00b7\"; padding: 0 .5ex}\n",
       "</style>\n",
       "<ol class=list-inline><li>'f'</li><li>'f'</li><li>'f'</li><li>'f'</li><li>'f'</li><li>'m'</li><li>'f'</li><li>'m'</li><li>'m'</li><li>'m'</li><li>'f'</li><li>'f'</li><li>'m'</li><li>'m'</li><li>'m'</li><li>'f'</li><li>'m'</li><li>'m'</li><li>'m'</li><li>'f'</li><li>'f'</li><li>'m'</li><li>'m'</li><li>'f'</li><li>'m'</li><li>'m'</li><li>'m'</li><li>'f'</li><li>'f'</li><li>'f'</li><li>'m'</li><li>'f'</li><li>'m'</li><li>'f'</li><li>'f'</li><li>'m'</li></ol>\n"
      ],
      "text/latex": [
       "\\begin{enumerate*}\n",
       "\\item 'f'\n",
       "\\item 'f'\n",
       "\\item 'f'\n",
       "\\item 'f'\n",
       "\\item 'f'\n",
       "\\item 'm'\n",
       "\\item 'f'\n",
       "\\item 'm'\n",
       "\\item 'm'\n",
       "\\item 'm'\n",
       "\\item 'f'\n",
       "\\item 'f'\n",
       "\\item 'm'\n",
       "\\item 'm'\n",
       "\\item 'm'\n",
       "\\item 'f'\n",
       "\\item 'm'\n",
       "\\item 'm'\n",
       "\\item 'm'\n",
       "\\item 'f'\n",
       "\\item 'f'\n",
       "\\item 'm'\n",
       "\\item 'm'\n",
       "\\item 'f'\n",
       "\\item 'm'\n",
       "\\item 'm'\n",
       "\\item 'm'\n",
       "\\item 'f'\n",
       "\\item 'f'\n",
       "\\item 'f'\n",
       "\\item 'm'\n",
       "\\item 'f'\n",
       "\\item 'm'\n",
       "\\item 'f'\n",
       "\\item 'f'\n",
       "\\item 'm'\n",
       "\\end{enumerate*}\n"
      ],
      "text/markdown": [
       "1. 'f'\n",
       "2. 'f'\n",
       "3. 'f'\n",
       "4. 'f'\n",
       "5. 'f'\n",
       "6. 'm'\n",
       "7. 'f'\n",
       "8. 'm'\n",
       "9. 'm'\n",
       "10. 'm'\n",
       "11. 'f'\n",
       "12. 'f'\n",
       "13. 'm'\n",
       "14. 'm'\n",
       "15. 'm'\n",
       "16. 'f'\n",
       "17. 'm'\n",
       "18. 'm'\n",
       "19. 'm'\n",
       "20. 'f'\n",
       "21. 'f'\n",
       "22. 'm'\n",
       "23. 'm'\n",
       "24. 'f'\n",
       "25. 'm'\n",
       "26. 'm'\n",
       "27. 'm'\n",
       "28. 'f'\n",
       "29. 'f'\n",
       "30. 'f'\n",
       "31. 'm'\n",
       "32. 'f'\n",
       "33. 'm'\n",
       "34. 'f'\n",
       "35. 'f'\n",
       "36. 'm'\n",
       "\n",
       "\n"
      ],
      "text/plain": [
       " [1] \"f\" \"f\" \"f\" \"f\" \"f\" \"m\" \"f\" \"m\" \"m\" \"m\" \"f\" \"f\" \"m\" \"m\" \"m\" \"f\" \"m\" \"m\" \"m\"\n",
       "[20] \"f\" \"f\" \"m\" \"m\" \"f\" \"m\" \"m\" \"m\" \"f\" \"f\" \"f\" \"m\" \"f\" \"m\" \"f\" \"f\" \"m\""
      ]
     },
     "metadata": {},
     "output_type": "display_data"
    },
    {
     "data": {
      "text/html": [
       "<style>\n",
       ".list-inline {list-style: none; margin:0; padding: 0}\n",
       ".list-inline>li {display: inline-block}\n",
       ".list-inline>li:not(:last-child)::after {content: \"\\00b7\"; padding: 0 .5ex}\n",
       "</style>\n",
       "<ol class=list-inline><li>'1'</li><li>'2'</li><li>'3'</li><li>'4'</li><li>'5'</li><li>'6'</li><li>'7'</li><li>'8'</li><li>'9'</li><li>'10'</li></ol>\n"
      ],
      "text/latex": [
       "\\begin{enumerate*}\n",
       "\\item '1'\n",
       "\\item '2'\n",
       "\\item '3'\n",
       "\\item '4'\n",
       "\\item '5'\n",
       "\\item '6'\n",
       "\\item '7'\n",
       "\\item '8'\n",
       "\\item '9'\n",
       "\\item '10'\n",
       "\\end{enumerate*}\n"
      ],
      "text/markdown": [
       "1. '1'\n",
       "2. '2'\n",
       "3. '3'\n",
       "4. '4'\n",
       "5. '5'\n",
       "6. '6'\n",
       "7. '7'\n",
       "8. '8'\n",
       "9. '9'\n",
       "10. '10'\n",
       "\n",
       "\n"
      ],
      "text/plain": [
       " [1] \"1\"  \"2\"  \"3\"  \"4\"  \"5\"  \"6\"  \"7\"  \"8\"  \"9\"  \"10\""
      ]
     },
     "metadata": {},
     "output_type": "display_data"
    }
   ],
   "source": [
    "pch\n",
    "paste(1:10)"
   ]
  },
  {
   "cell_type": "code",
   "execution_count": 9,
   "id": "01342db5",
   "metadata": {},
   "outputs": [
    {
     "data": {
      "image/png": "[encoded data removed]",
      "text/plain": [
       "plot without title"
      ]
     },
     "metadata": {
      "image/png": {
       "height": 420,
       "width": 420
      }
     },
     "output_type": "display_data"
    }
   ],
   "source": [
    "par(mfrow=c(1, 2))\n",
    "\n",
    "xlim = c(1, 10)\n",
    "ylim = c(1, 10)\n",
    "\n",
    "plot(df$television[df$sex=='f'], df$sociability[df$sex=='f'], xlim=xlim, yli=ylim)\n",
    "plot(df$television[df$sex=='m'], df$sociability[df$sex=='m'], xlim=xlim, yli=ylim)"
   ]
  },
  {
   "cell_type": "markdown",
   "id": "ee9a0a99",
   "metadata": {},
   "source": [
    "## show frequency distribution table"
   ]
  },
  {
   "cell_type": "code",
   "execution_count": 10,
   "id": "2b5ec6c1",
   "metadata": {},
   "outputs": [
    {
     "data": {
      "text/plain": [
       "\n",
       " a  b  c \n",
       "12 12 12 "
      ]
     },
     "metadata": {},
     "output_type": "display_data"
    }
   ],
   "source": [
    "table(df$birthplace)"
   ]
  },
  {
   "cell_type": "code",
   "execution_count": 12,
   "id": "e2db5a26",
   "metadata": {},
   "outputs": [
    {
     "data": {
      "text/plain": [
       "   \n",
       "     i  o\n",
       "  f  9  9\n",
       "  m  8 10"
      ]
     },
     "metadata": {},
     "output_type": "display_data"
    }
   ],
   "source": [
    "table(df$sex, df$in_out)"
   ]
  },
  {
   "cell_type": "markdown",
   "id": "107535d0",
   "metadata": {},
   "source": [
    "## show bar graph"
   ]
  },
  {
   "cell_type": "code",
   "execution_count": 13,
   "id": "499cf96b",
   "metadata": {},
   "outputs": [
    {
     "data": {
      "image/png": "[encoded data removed]",
      "text/plain": [
       "plot without title"
      ]
     },
     "metadata": {
      "image/png": {
       "height": 420,
       "width": 420
      }
     },
     "output_type": "display_data"
    }
   ],
   "source": [
    "barplot(table(df$sex, df$in_out))"
   ]
  },
  {
   "cell_type": "markdown",
   "id": "ae5e8a84",
   "metadata": {},
   "source": [
    "## calculation of basic statistics"
   ]
  },
  {
   "cell_type": "code",
   "execution_count": 14,
   "id": "ed42bbdb",
   "metadata": {},
   "outputs": [
    {
     "data": {
      "text/plain": [
       "       id            sex             birthplace           in_out         \n",
       " Min.   : 1.00   Length:36          Length:36          Length:36         \n",
       " 1st Qu.: 9.75   Class :character   Class :character   Class :character  \n",
       " Median :18.50   Mode  :character   Mode  :character   Mode  :character  \n",
       " Mean   :18.50                                                           \n",
       " 3rd Qu.:27.25                                                           \n",
       " Max.   :36.00                                                           \n",
       "   television     sociability        before          after     \n",
       " Min.   :1.000   Min.   :2.000   Min.   :45.00   Min.   :49.0  \n",
       " 1st Qu.:2.000   1st Qu.:3.000   1st Qu.:54.75   1st Qu.:63.5  \n",
       " Median :4.000   Median :5.000   Median :60.00   Median :67.5  \n",
       " Mean   :3.972   Mean   :5.333   Mean   :60.42   Mean   :67.0  \n",
       " 3rd Qu.:5.250   3rd Qu.:7.000   3rd Qu.:65.00   3rd Qu.:71.0  \n",
       " Max.   :8.000   Max.   :9.000   Max.   :79.00   Max.   :81.0  "
      ]
     },
     "metadata": {},
     "output_type": "display_data"
    }
   ],
   "source": [
    "summary(df)"
   ]
  },
  {
   "cell_type": "code",
   "execution_count": 15,
   "id": "98b77bb9",
   "metadata": {},
   "outputs": [
    {
     "data": {
      "text/html": [
       "3.97222222222222"
      ],
      "text/latex": [
       "3.97222222222222"
      ],
      "text/markdown": [
       "3.97222222222222"
      ],
      "text/plain": [
       "[1] 3.972222"
      ]
     },
     "metadata": {},
     "output_type": "display_data"
    },
    {
     "data": {
      "text/html": [
       "4"
      ],
      "text/latex": [
       "4"
      ],
      "text/markdown": [
       "4"
      ],
      "text/plain": [
       "[1] 4"
      ]
     },
     "metadata": {},
     "output_type": "display_data"
    },
    {
     "data": {
      "text/html": [
       "2.19722046635693"
      ],
      "text/latex": [
       "2.19722046635693"
      ],
      "text/markdown": [
       "2.19722046635693"
      ],
      "text/plain": [
       "[1] 2.19722"
      ]
     },
     "metadata": {},
     "output_type": "display_data"
    },
    {
     "data": {
      "text/html": [
       "4.82777777777778"
      ],
      "text/latex": [
       "4.82777777777778"
      ],
      "text/markdown": [
       "4.82777777777778"
      ],
      "text/plain": [
       "[1] 4.827778"
      ]
     },
     "metadata": {},
     "output_type": "display_data"
    }
   ],
   "source": [
    "mean(df$television)\n",
    "median(df$television)\n",
    "\n",
    "# unbias variance\n",
    "sd(df$television)\n",
    "\n",
    "# variance\n",
    "var(df$television)"
   ]
  },
  {
   "cell_type": "code",
   "execution_count": 18,
   "id": "7c77590e",
   "metadata": {},
   "outputs": [
    {
     "data": {
      "text/html": [
       "<style>\n",
       ".dl-inline {width: auto; margin:0; padding: 0}\n",
       ".dl-inline>dt, .dl-inline>dd {float: none; width: auto; display: inline-block}\n",
       ".dl-inline>dt::after {content: \":\\0020\"; padding-right: .5ex}\n",
       ".dl-inline>dt:not(:first-of-type) {padding-left: .5ex}\n",
       "</style><dl class=dl-inline><dt>f</dt><dd>4.44444444444444</dd><dt>m</dt><dd>3.5</dd></dl>\n"
      ],
      "text/latex": [
       "\\begin{description*}\n",
       "\\item[f] 4.44444444444444\n",
       "\\item[m] 3.5\n",
       "\\end{description*}\n"
      ],
      "text/markdown": [
       "f\n",
       ":   4.44444444444444m\n",
       ":   3.5\n",
       "\n"
      ],
      "text/plain": [
       "       f        m \n",
       "4.444444 3.500000 "
      ]
     },
     "metadata": {},
     "output_type": "display_data"
    },
    {
     "data": {
      "text/html": [
       "<style>\n",
       ".dl-inline {width: auto; margin:0; padding: 0}\n",
       ".dl-inline>dt, .dl-inline>dd {float: none; width: auto; display: inline-block}\n",
       ".dl-inline>dt::after {content: \":\\0020\"; padding-right: .5ex}\n",
       ".dl-inline>dt:not(:first-of-type) {padding-left: .5ex}\n",
       "</style><dl class=dl-inline><dt>f</dt><dd>2.28092401870053</dd><dt>m</dt><dd>2.06511643312258</dd></dl>\n"
      ],
      "text/latex": [
       "\\begin{description*}\n",
       "\\item[f] 2.28092401870053\n",
       "\\item[m] 2.06511643312258\n",
       "\\end{description*}\n"
      ],
      "text/markdown": [
       "f\n",
       ":   2.28092401870053m\n",
       ":   2.06511643312258\n",
       "\n"
      ],
      "text/plain": [
       "       f        m \n",
       "2.280924 2.065116 "
      ]
     },
     "metadata": {},
     "output_type": "display_data"
    },
    {
     "data": {
      "text/plain": [
       "$f\n",
       "   Min. 1st Qu.  Median    Mean 3rd Qu.    Max. \n",
       "  1.000   3.000   4.000   4.444   6.750   8.000 \n",
       "\n",
       "$m\n",
       "   Min. 1st Qu.  Median    Mean 3rd Qu.    Max. \n",
       "    1.0     2.0     3.0     3.5     5.0     7.0 \n"
      ]
     },
     "metadata": {},
     "output_type": "display_data"
    }
   ],
   "source": [
    "tapply(df$television, df$sex, mean)\n",
    "tapply(df$television, df$sex, sd)\n",
    "tapply(df$television, df$sex, summary)"
   ]
  },
  {
   "cell_type": "code",
   "execution_count": 23,
   "id": "d3fd0bcb",
   "metadata": {},
   "outputs": [
    {
     "data": {
      "text/plain": [
       "$a\n",
       "   Min. 1st Qu.  Median    Mean 3rd Qu.    Max. \n",
       "  2.000   3.750   5.500   5.167   7.000   8.000 \n",
       "\n",
       "$b\n",
       "   Min. 1st Qu.  Median    Mean 3rd Qu.    Max. \n",
       "   1.00    1.75    3.50    3.75    5.00    8.00 \n",
       "\n",
       "$c\n",
       "   Min. 1st Qu.  Median    Mean 3rd Qu.    Max. \n",
       "   1.00    1.75    2.50    3.00    4.00    7.00 \n"
      ]
     },
     "metadata": {},
     "output_type": "display_data"
    },
    {
     "data": {
      "text/plain": [
       "df$birthplace: a\n",
       "   Min. 1st Qu.  Median    Mean 3rd Qu.    Max. \n",
       "  2.000   3.750   5.500   5.167   7.000   8.000 \n",
       "------------------------------------------------------------ \n",
       "df$birthplace: b\n",
       "   Min. 1st Qu.  Median    Mean 3rd Qu.    Max. \n",
       "   1.00    1.75    3.50    3.75    5.00    8.00 \n",
       "------------------------------------------------------------ \n",
       "df$birthplace: c\n",
       "   Min. 1st Qu.  Median    Mean 3rd Qu.    Max. \n",
       "   1.00    1.75    2.50    3.00    4.00    7.00 "
      ]
     },
     "metadata": {},
     "output_type": "display_data"
    }
   ],
   "source": [
    "tapply(df$television, df$birthplace, summary)\n",
    "by(df$television, df$birthplace, summary)"
   ]
  },
  {
   "cell_type": "code",
   "execution_count": 24,
   "id": "789f4459",
   "metadata": {},
   "outputs": [
    {
     "data": {
      "text/plain": [
       "df$sex: f\n",
       "       id            sex             birthplace           in_out         \n",
       " Min.   : 1.00   Length:18          Length:18          Length:18         \n",
       " 1st Qu.: 5.50   Class :character   Class :character   Class :character  \n",
       " Median :18.00   Mode  :character   Mode  :character   Mode  :character  \n",
       " Mean   :17.44                                                           \n",
       " 3rd Qu.:28.75                                                           \n",
       " Max.   :35.00                                                           \n",
       "   television     sociability        before          after      \n",
       " Min.   :1.000   Min.   :3.000   Min.   :45.00   Min.   :49.00  \n",
       " 1st Qu.:3.000   1st Qu.:3.250   1st Qu.:52.00   1st Qu.:59.25  \n",
       " Median :4.000   Median :5.500   Median :54.50   Median :66.50  \n",
       " Mean   :4.444   Mean   :5.444   Mean   :54.33   Mean   :64.72  \n",
       " 3rd Qu.:6.750   3rd Qu.:7.000   3rd Qu.:58.50   3rd Qu.:70.75  \n",
       " Max.   :8.000   Max.   :9.000   Max.   :61.00   Max.   :81.00  \n",
       "------------------------------------------------------------ \n",
       "df$sex: m\n",
       "       id            sex             birthplace           in_out         \n",
       " Min.   : 6.00   Length:18          Length:18          Length:18         \n",
       " 1st Qu.:13.25   Class :character   Class :character   Class :character  \n",
       " Median :18.50   Mode  :character   Mode  :character   Mode  :character  \n",
       " Mean   :19.56                                                           \n",
       " 3rd Qu.:25.75                                                           \n",
       " Max.   :36.00                                                           \n",
       "   television   sociability        before          after      \n",
       " Min.   :1.0   Min.   :2.000   Min.   :57.00   Min.   :61.00  \n",
       " 1st Qu.:2.0   1st Qu.:3.000   1st Qu.:63.25   1st Qu.:65.25  \n",
       " Median :3.0   Median :5.000   Median :65.00   Median :68.50  \n",
       " Mean   :3.5   Mean   :5.222   Mean   :66.50   Mean   :69.28  \n",
       " 3rd Qu.:5.0   3rd Qu.:7.000   3rd Qu.:69.75   3rd Qu.:71.75  \n",
       " Max.   :7.0   Max.   :9.000   Max.   :79.00   Max.   :79.00  "
      ]
     },
     "metadata": {},
     "output_type": "display_data"
    }
   ],
   "source": [
    "# XXX tapply(df, df$sex, summary)\n",
    "by(df, df$sex, summary)"
   ]
  },
  {
   "cell_type": "markdown",
   "id": "73cecea7",
   "metadata": {},
   "source": [
    "## calculation of correlation coefficient"
   ]
  },
  {
   "cell_type": "code",
   "execution_count": 25,
   "id": "5e96a0c6",
   "metadata": {},
   "outputs": [
    {
     "data": {
      "text/html": [
       "-3.1047619047619"
      ],
      "text/latex": [
       "-3.1047619047619"
      ],
      "text/markdown": [
       "-3.1047619047619"
      ],
      "text/plain": [
       "[1] -3.104762"
      ]
     },
     "metadata": {},
     "output_type": "display_data"
    }
   ],
   "source": [
    "# unbiased covariance\n",
    "cov(df$television, df$sociability)"
   ]
  },
  {
   "cell_type": "code",
   "execution_count": 26,
   "id": "54ab14c0",
   "metadata": {},
   "outputs": [
    {
     "data": {
      "text/html": [
       "-0.68256349568356"
      ],
      "text/latex": [
       "-0.68256349568356"
      ],
      "text/markdown": [
       "-0.68256349568356"
      ],
      "text/plain": [
       "[1] -0.6825635"
      ]
     },
     "metadata": {},
     "output_type": "display_data"
    }
   ],
   "source": [
    "# correlation coefficient\n",
    "cor(df$television, df$sociability)"
   ]
  },
  {
   "cell_type": "code",
   "execution_count": 27,
   "id": "922be9d4",
   "metadata": {},
   "outputs": [
    {
     "data": {
      "text/html": [
       "<table class=\"dataframe\">\n",
       "<caption>A matrix: 4 × 4 of type dbl</caption>\n",
       "<thead>\n",
       "\t<tr><th></th><th scope=col>television</th><th scope=col>sociability</th><th scope=col>before</th><th scope=col>after</th></tr>\n",
       "</thead>\n",
       "<tbody>\n",
       "\t<tr><th scope=row>television</th><td> 1.0000000</td><td>-0.6825635</td><td>-0.1146579</td><td>-0.1666452</td></tr>\n",
       "\t<tr><th scope=row>sociability</th><td>-0.6825635</td><td> 1.0000000</td><td>-0.1534454</td><td> 0.2266150</td></tr>\n",
       "\t<tr><th scope=row>before</th><td>-0.1146579</td><td>-0.1534454</td><td> 1.0000000</td><td> 0.3678376</td></tr>\n",
       "\t<tr><th scope=row>after</th><td>-0.1666452</td><td> 0.2266150</td><td> 0.3678376</td><td> 1.0000000</td></tr>\n",
       "</tbody>\n",
       "</table>\n"
      ],
      "text/latex": [
       "A matrix: 4 × 4 of type dbl\n",
       "\\begin{tabular}{r|llll}\n",
       "  & television & sociability & before & after\\\\\n",
       "\\hline\n",
       "\ttelevision &  1.0000000 & -0.6825635 & -0.1146579 & -0.1666452\\\\\n",
       "\tsociability & -0.6825635 &  1.0000000 & -0.1534454 &  0.2266150\\\\\n",
       "\tbefore & -0.1146579 & -0.1534454 &  1.0000000 &  0.3678376\\\\\n",
       "\tafter & -0.1666452 &  0.2266150 &  0.3678376 &  1.0000000\\\\\n",
       "\\end{tabular}\n"
      ],
      "text/markdown": [
       "\n",
       "A matrix: 4 × 4 of type dbl\n",
       "\n",
       "| <!--/--> | television | sociability | before | after |\n",
       "|---|---|---|---|---|\n",
       "| television |  1.0000000 | -0.6825635 | -0.1146579 | -0.1666452 |\n",
       "| sociability | -0.6825635 |  1.0000000 | -0.1534454 |  0.2266150 |\n",
       "| before | -0.1146579 | -0.1534454 |  1.0000000 |  0.3678376 |\n",
       "| after | -0.1666452 |  0.2266150 |  0.3678376 |  1.0000000 |\n",
       "\n"
      ],
      "text/plain": [
       "            television sociability before     after     \n",
       "television   1.0000000 -0.6825635  -0.1146579 -0.1666452\n",
       "sociability -0.6825635  1.0000000  -0.1534454  0.2266150\n",
       "before      -0.1146579 -0.1534454   1.0000000  0.3678376\n",
       "after       -0.1666452  0.2266150   0.3678376  1.0000000"
      ]
     },
     "metadata": {},
     "output_type": "display_data"
    }
   ],
   "source": [
    "# multiple\n",
    "cor(df[5:8])"
   ]
  },
  {
   "cell_type": "code",
   "execution_count": 34,
   "id": "cc74e583",
   "metadata": {},
   "outputs": [
    {
     "data": {
      "text/html": [
       "-0.756512608336112"
      ],
      "text/latex": [
       "-0.756512608336112"
      ],
      "text/markdown": [
       "-0.756512608336112"
      ],
      "text/plain": [
       "[1] -0.7565126"
      ]
     },
     "metadata": {},
     "output_type": "display_data"
    },
    {
     "data": {
      "text/html": [
       "-0.668717241203855"
      ],
      "text/latex": [
       "-0.668717241203855"
      ],
      "text/markdown": [
       "-0.668717241203855"
      ],
      "text/plain": [
       "[1] -0.6687172"
      ]
     },
     "metadata": {},
     "output_type": "display_data"
    }
   ],
   "source": [
    "cor(df$television[df$sex=='f'], df$sociability[df$sex=='f'])\n",
    "cor(df$television[df$sex=='m'], df$sociability[df$sex=='m'])"
   ]
  },
  {
   "cell_type": "code",
   "execution_count": 37,
   "id": "63dad9f7",
   "metadata": {},
   "outputs": [],
   "source": [
    "df_female = subset(df, df$sex=='f')\n",
    "df_male = subset(df, df$sex=='m')"
   ]
  },
  {
   "cell_type": "code",
   "execution_count": 38,
   "id": "08e40aae",
   "metadata": {},
   "outputs": [
    {
     "data": {
      "text/html": [
       "<table class=\"dataframe\">\n",
       "<caption>A data.frame: 18 × 8</caption>\n",
       "<thead>\n",
       "\t<tr><th></th><th scope=col>id</th><th scope=col>sex</th><th scope=col>birthplace</th><th scope=col>in_out</th><th scope=col>television</th><th scope=col>sociability</th><th scope=col>before</th><th scope=col>after</th></tr>\n",
       "\t<tr><th></th><th scope=col>&lt;int&gt;</th><th scope=col>&lt;chr&gt;</th><th scope=col>&lt;chr&gt;</th><th scope=col>&lt;chr&gt;</th><th scope=col>&lt;int&gt;</th><th scope=col>&lt;int&gt;</th><th scope=col>&lt;int&gt;</th><th scope=col>&lt;int&gt;</th></tr>\n",
       "</thead>\n",
       "<tbody>\n",
       "\t<tr><th scope=row>1</th><td> 1</td><td>f</td><td>a</td><td>i</td><td>7</td><td>5</td><td>49</td><td>71</td></tr>\n",
       "\t<tr><th scope=row>2</th><td> 2</td><td>f</td><td>b</td><td>i</td><td>1</td><td>7</td><td>47</td><td>68</td></tr>\n",
       "\t<tr><th scope=row>3</th><td> 3</td><td>f</td><td>c</td><td>o</td><td>1</td><td>8</td><td>57</td><td>81</td></tr>\n",
       "\t<tr><th scope=row>4</th><td> 4</td><td>f</td><td>b</td><td>o</td><td>3</td><td>8</td><td>52</td><td>71</td></tr>\n",
       "\t<tr><th scope=row>5</th><td> 5</td><td>f</td><td>c</td><td>o</td><td>2</td><td>9</td><td>53</td><td>61</td></tr>\n",
       "\t<tr><th scope=row>7</th><td> 7</td><td>f</td><td>a</td><td>o</td><td>4</td><td>6</td><td>56</td><td>70</td></tr>\n",
       "\t<tr><th scope=row>11</th><td>11</td><td>f</td><td>a</td><td>i</td><td>8</td><td>3</td><td>55</td><td>66</td></tr>\n",
       "\t<tr><th scope=row>12</th><td>12</td><td>f</td><td>a</td><td>i</td><td>6</td><td>5</td><td>61</td><td>71</td></tr>\n",
       "\t<tr><th scope=row>16</th><td>16</td><td>f</td><td>b</td><td>i</td><td>4</td><td>3</td><td>60</td><td>59</td></tr>\n",
       "\t<tr><th scope=row>20</th><td>20</td><td>f</td><td>c</td><td>o</td><td>4</td><td>3</td><td>54</td><td>53</td></tr>\n",
       "\t<tr><th scope=row>21</th><td>21</td><td>f</td><td>a</td><td>o</td><td>2</td><td>8</td><td>60</td><td>78</td></tr>\n",
       "\t<tr><th scope=row>24</th><td>24</td><td>f</td><td>a</td><td>o</td><td>7</td><td>4</td><td>52</td><td>67</td></tr>\n",
       "\t<tr><th scope=row>28</th><td>28</td><td>f</td><td>c</td><td>o</td><td>4</td><td>4</td><td>59</td><td>64</td></tr>\n",
       "\t<tr><th scope=row>29</th><td>29</td><td>f</td><td>c</td><td>i</td><td>3</td><td>6</td><td>45</td><td>51</td></tr>\n",
       "\t<tr><th scope=row>30</th><td>30</td><td>f</td><td>b</td><td>i</td><td>5</td><td>6</td><td>50</td><td>49</td></tr>\n",
       "\t<tr><th scope=row>32</th><td>32</td><td>f</td><td>b</td><td>i</td><td>7</td><td>3</td><td>55</td><td>60</td></tr>\n",
       "\t<tr><th scope=row>34</th><td>34</td><td>f</td><td>c</td><td>o</td><td>4</td><td>7</td><td>60</td><td>58</td></tr>\n",
       "\t<tr><th scope=row>35</th><td>35</td><td>f</td><td>b</td><td>i</td><td>8</td><td>3</td><td>53</td><td>67</td></tr>\n",
       "</tbody>\n",
       "</table>\n"
      ],
      "text/latex": [
       "A data.frame: 18 × 8\n",
       "\\begin{tabular}{r|llllllll}\n",
       "  & id & sex & birthplace & in\\_out & television & sociability & before & after\\\\\n",
       "  & <int> & <chr> & <chr> & <chr> & <int> & <int> & <int> & <int>\\\\\n",
       "\\hline\n",
       "\t1 &  1 & f & a & i & 7 & 5 & 49 & 71\\\\\n",
       "\t2 &  2 & f & b & i & 1 & 7 & 47 & 68\\\\\n",
       "\t3 &  3 & f & c & o & 1 & 8 & 57 & 81\\\\\n",
       "\t4 &  4 & f & b & o & 3 & 8 & 52 & 71\\\\\n",
       "\t5 &  5 & f & c & o & 2 & 9 & 53 & 61\\\\\n",
       "\t7 &  7 & f & a & o & 4 & 6 & 56 & 70\\\\\n",
       "\t11 & 11 & f & a & i & 8 & 3 & 55 & 66\\\\\n",
       "\t12 & 12 & f & a & i & 6 & 5 & 61 & 71\\\\\n",
       "\t16 & 16 & f & b & i & 4 & 3 & 60 & 59\\\\\n",
       "\t20 & 20 & f & c & o & 4 & 3 & 54 & 53\\\\\n",
       "\t21 & 21 & f & a & o & 2 & 8 & 60 & 78\\\\\n",
       "\t24 & 24 & f & a & o & 7 & 4 & 52 & 67\\\\\n",
       "\t28 & 28 & f & c & o & 4 & 4 & 59 & 64\\\\\n",
       "\t29 & 29 & f & c & i & 3 & 6 & 45 & 51\\\\\n",
       "\t30 & 30 & f & b & i & 5 & 6 & 50 & 49\\\\\n",
       "\t32 & 32 & f & b & i & 7 & 3 & 55 & 60\\\\\n",
       "\t34 & 34 & f & c & o & 4 & 7 & 60 & 58\\\\\n",
       "\t35 & 35 & f & b & i & 8 & 3 & 53 & 67\\\\\n",
       "\\end{tabular}\n"
      ],
      "text/markdown": [
       "\n",
       "A data.frame: 18 × 8\n",
       "\n",
       "| <!--/--> | id &lt;int&gt; | sex &lt;chr&gt; | birthplace &lt;chr&gt; | in_out &lt;chr&gt; | television &lt;int&gt; | sociability &lt;int&gt; | before &lt;int&gt; | after &lt;int&gt; |\n",
       "|---|---|---|---|---|---|---|---|---|\n",
       "| 1 |  1 | f | a | i | 7 | 5 | 49 | 71 |\n",
       "| 2 |  2 | f | b | i | 1 | 7 | 47 | 68 |\n",
       "| 3 |  3 | f | c | o | 1 | 8 | 57 | 81 |\n",
       "| 4 |  4 | f | b | o | 3 | 8 | 52 | 71 |\n",
       "| 5 |  5 | f | c | o | 2 | 9 | 53 | 61 |\n",
       "| 7 |  7 | f | a | o | 4 | 6 | 56 | 70 |\n",
       "| 11 | 11 | f | a | i | 8 | 3 | 55 | 66 |\n",
       "| 12 | 12 | f | a | i | 6 | 5 | 61 | 71 |\n",
       "| 16 | 16 | f | b | i | 4 | 3 | 60 | 59 |\n",
       "| 20 | 20 | f | c | o | 4 | 3 | 54 | 53 |\n",
       "| 21 | 21 | f | a | o | 2 | 8 | 60 | 78 |\n",
       "| 24 | 24 | f | a | o | 7 | 4 | 52 | 67 |\n",
       "| 28 | 28 | f | c | o | 4 | 4 | 59 | 64 |\n",
       "| 29 | 29 | f | c | i | 3 | 6 | 45 | 51 |\n",
       "| 30 | 30 | f | b | i | 5 | 6 | 50 | 49 |\n",
       "| 32 | 32 | f | b | i | 7 | 3 | 55 | 60 |\n",
       "| 34 | 34 | f | c | o | 4 | 7 | 60 | 58 |\n",
       "| 35 | 35 | f | b | i | 8 | 3 | 53 | 67 |\n",
       "\n"
      ],
      "text/plain": [
       "   id sex birthplace in_out television sociability before after\n",
       "1   1 f   a          i      7          5           49     71   \n",
       "2   2 f   b          i      1          7           47     68   \n",
       "3   3 f   c          o      1          8           57     81   \n",
       "4   4 f   b          o      3          8           52     71   \n",
       "5   5 f   c          o      2          9           53     61   \n",
       "7   7 f   a          o      4          6           56     70   \n",
       "11 11 f   a          i      8          3           55     66   \n",
       "12 12 f   a          i      6          5           61     71   \n",
       "16 16 f   b          i      4          3           60     59   \n",
       "20 20 f   c          o      4          3           54     53   \n",
       "21 21 f   a          o      2          8           60     78   \n",
       "24 24 f   a          o      7          4           52     67   \n",
       "28 28 f   c          o      4          4           59     64   \n",
       "29 29 f   c          i      3          6           45     51   \n",
       "30 30 f   b          i      5          6           50     49   \n",
       "32 32 f   b          i      7          3           55     60   \n",
       "34 34 f   c          o      4          7           60     58   \n",
       "35 35 f   b          i      8          3           53     67   "
      ]
     },
     "metadata": {},
     "output_type": "display_data"
    },
    {
     "data": {
      "text/html": [
       "<table class=\"dataframe\">\n",
       "<caption>A data.frame: 18 × 8</caption>\n",
       "<thead>\n",
       "\t<tr><th></th><th scope=col>id</th><th scope=col>sex</th><th scope=col>birthplace</th><th scope=col>in_out</th><th scope=col>television</th><th scope=col>sociability</th><th scope=col>before</th><th scope=col>after</th></tr>\n",
       "\t<tr><th></th><th scope=col>&lt;int&gt;</th><th scope=col>&lt;chr&gt;</th><th scope=col>&lt;chr&gt;</th><th scope=col>&lt;chr&gt;</th><th scope=col>&lt;int&gt;</th><th scope=col>&lt;int&gt;</th><th scope=col>&lt;int&gt;</th><th scope=col>&lt;int&gt;</th></tr>\n",
       "</thead>\n",
       "<tbody>\n",
       "\t<tr><th scope=row>6</th><td> 6</td><td>m</td><td>a</td><td>i</td><td>6</td><td>5</td><td>63</td><td>66</td></tr>\n",
       "\t<tr><th scope=row>8</th><td> 8</td><td>m</td><td>c</td><td>o</td><td>5</td><td>3</td><td>65</td><td>64</td></tr>\n",
       "\t<tr><th scope=row>9</th><td> 9</td><td>m</td><td>b</td><td>o</td><td>3</td><td>5</td><td>75</td><td>74</td></tr>\n",
       "\t<tr><th scope=row>10</th><td>10</td><td>m</td><td>a</td><td>i</td><td>4</td><td>3</td><td>61</td><td>78</td></tr>\n",
       "\t<tr><th scope=row>13</th><td>13</td><td>m</td><td>b</td><td>i</td><td>2</td><td>3</td><td>70</td><td>68</td></tr>\n",
       "\t<tr><th scope=row>14</th><td>14</td><td>m</td><td>b</td><td>i</td><td>5</td><td>2</td><td>69</td><td>65</td></tr>\n",
       "\t<tr><th scope=row>15</th><td>15</td><td>m</td><td>a</td><td>i</td><td>3</td><td>5</td><td>65</td><td>71</td></tr>\n",
       "\t<tr><th scope=row>17</th><td>17</td><td>m</td><td>b</td><td>i</td><td>5</td><td>3</td><td>70</td><td>62</td></tr>\n",
       "\t<tr><th scope=row>18</th><td>18</td><td>m</td><td>c</td><td>o</td><td>2</td><td>6</td><td>63</td><td>61</td></tr>\n",
       "\t<tr><th scope=row>19</th><td>19</td><td>m</td><td>c</td><td>o</td><td>1</td><td>7</td><td>68</td><td>66</td></tr>\n",
       "\t<tr><th scope=row>22</th><td>22</td><td>m</td><td>a</td><td>i</td><td>7</td><td>3</td><td>69</td><td>68</td></tr>\n",
       "\t<tr><th scope=row>23</th><td>23</td><td>m</td><td>c</td><td>o</td><td>2</td><td>8</td><td>64</td><td>65</td></tr>\n",
       "\t<tr><th scope=row>25</th><td>25</td><td>m</td><td>a</td><td>o</td><td>3</td><td>6</td><td>58</td><td>69</td></tr>\n",
       "\t<tr><th scope=row>26</th><td>26</td><td>m</td><td>c</td><td>o</td><td>1</td><td>7</td><td>65</td><td>71</td></tr>\n",
       "\t<tr><th scope=row>27</th><td>27</td><td>m</td><td>b</td><td>o</td><td>1</td><td>8</td><td>64</td><td>79</td></tr>\n",
       "\t<tr><th scope=row>31</th><td>31</td><td>m</td><td>b</td><td>o</td><td>1</td><td>9</td><td>72</td><td>71</td></tr>\n",
       "\t<tr><th scope=row>33</th><td>33</td><td>m</td><td>c</td><td>i</td><td>7</td><td>4</td><td>79</td><td>77</td></tr>\n",
       "\t<tr><th scope=row>36</th><td>36</td><td>m</td><td>a</td><td>o</td><td>5</td><td>7</td><td>57</td><td>72</td></tr>\n",
       "</tbody>\n",
       "</table>\n"
      ],
      "text/latex": [
       "A data.frame: 18 × 8\n",
       "\\begin{tabular}{r|llllllll}\n",
       "  & id & sex & birthplace & in\\_out & television & sociability & before & after\\\\\n",
       "  & <int> & <chr> & <chr> & <chr> & <int> & <int> & <int> & <int>\\\\\n",
       "\\hline\n",
       "\t6 &  6 & m & a & i & 6 & 5 & 63 & 66\\\\\n",
       "\t8 &  8 & m & c & o & 5 & 3 & 65 & 64\\\\\n",
       "\t9 &  9 & m & b & o & 3 & 5 & 75 & 74\\\\\n",
       "\t10 & 10 & m & a & i & 4 & 3 & 61 & 78\\\\\n",
       "\t13 & 13 & m & b & i & 2 & 3 & 70 & 68\\\\\n",
       "\t14 & 14 & m & b & i & 5 & 2 & 69 & 65\\\\\n",
       "\t15 & 15 & m & a & i & 3 & 5 & 65 & 71\\\\\n",
       "\t17 & 17 & m & b & i & 5 & 3 & 70 & 62\\\\\n",
       "\t18 & 18 & m & c & o & 2 & 6 & 63 & 61\\\\\n",
       "\t19 & 19 & m & c & o & 1 & 7 & 68 & 66\\\\\n",
       "\t22 & 22 & m & a & i & 7 & 3 & 69 & 68\\\\\n",
       "\t23 & 23 & m & c & o & 2 & 8 & 64 & 65\\\\\n",
       "\t25 & 25 & m & a & o & 3 & 6 & 58 & 69\\\\\n",
       "\t26 & 26 & m & c & o & 1 & 7 & 65 & 71\\\\\n",
       "\t27 & 27 & m & b & o & 1 & 8 & 64 & 79\\\\\n",
       "\t31 & 31 & m & b & o & 1 & 9 & 72 & 71\\\\\n",
       "\t33 & 33 & m & c & i & 7 & 4 & 79 & 77\\\\\n",
       "\t36 & 36 & m & a & o & 5 & 7 & 57 & 72\\\\\n",
       "\\end{tabular}\n"
      ],
      "text/markdown": [
       "\n",
       "A data.frame: 18 × 8\n",
       "\n",
       "| <!--/--> | id &lt;int&gt; | sex &lt;chr&gt; | birthplace &lt;chr&gt; | in_out &lt;chr&gt; | television &lt;int&gt; | sociability &lt;int&gt; | before &lt;int&gt; | after &lt;int&gt; |\n",
       "|---|---|---|---|---|---|---|---|---|\n",
       "| 6 |  6 | m | a | i | 6 | 5 | 63 | 66 |\n",
       "| 8 |  8 | m | c | o | 5 | 3 | 65 | 64 |\n",
       "| 9 |  9 | m | b | o | 3 | 5 | 75 | 74 |\n",
       "| 10 | 10 | m | a | i | 4 | 3 | 61 | 78 |\n",
       "| 13 | 13 | m | b | i | 2 | 3 | 70 | 68 |\n",
       "| 14 | 14 | m | b | i | 5 | 2 | 69 | 65 |\n",
       "| 15 | 15 | m | a | i | 3 | 5 | 65 | 71 |\n",
       "| 17 | 17 | m | b | i | 5 | 3 | 70 | 62 |\n",
       "| 18 | 18 | m | c | o | 2 | 6 | 63 | 61 |\n",
       "| 19 | 19 | m | c | o | 1 | 7 | 68 | 66 |\n",
       "| 22 | 22 | m | a | i | 7 | 3 | 69 | 68 |\n",
       "| 23 | 23 | m | c | o | 2 | 8 | 64 | 65 |\n",
       "| 25 | 25 | m | a | o | 3 | 6 | 58 | 69 |\n",
       "| 26 | 26 | m | c | o | 1 | 7 | 65 | 71 |\n",
       "| 27 | 27 | m | b | o | 1 | 8 | 64 | 79 |\n",
       "| 31 | 31 | m | b | o | 1 | 9 | 72 | 71 |\n",
       "| 33 | 33 | m | c | i | 7 | 4 | 79 | 77 |\n",
       "| 36 | 36 | m | a | o | 5 | 7 | 57 | 72 |\n",
       "\n"
      ],
      "text/plain": [
       "   id sex birthplace in_out television sociability before after\n",
       "6   6 m   a          i      6          5           63     66   \n",
       "8   8 m   c          o      5          3           65     64   \n",
       "9   9 m   b          o      3          5           75     74   \n",
       "10 10 m   a          i      4          3           61     78   \n",
       "13 13 m   b          i      2          3           70     68   \n",
       "14 14 m   b          i      5          2           69     65   \n",
       "15 15 m   a          i      3          5           65     71   \n",
       "17 17 m   b          i      5          3           70     62   \n",
       "18 18 m   c          o      2          6           63     61   \n",
       "19 19 m   c          o      1          7           68     66   \n",
       "22 22 m   a          i      7          3           69     68   \n",
       "23 23 m   c          o      2          8           64     65   \n",
       "25 25 m   a          o      3          6           58     69   \n",
       "26 26 m   c          o      1          7           65     71   \n",
       "27 27 m   b          o      1          8           64     79   \n",
       "31 31 m   b          o      1          9           72     71   \n",
       "33 33 m   c          i      7          4           79     77   \n",
       "36 36 m   a          o      5          7           57     72   "
      ]
     },
     "metadata": {},
     "output_type": "display_data"
    }
   ],
   "source": [
    "df_female\n",
    "df_male"
   ]
  }
 ],
 "metadata": {
  "kernelspec": {
   "display_name": "R",
   "language": "R",
   "name": "ir"
  },
  "language_info": {
   "codemirror_mode": "r",
   "file_extension": ".r",
   "mimetype": "text/x-r-source",
   "name": "R",
   "pygments_lexer": "r",
   "version": "4.0.3"
  }
 },
 "nbformat": 4,
 "nbformat_minor": 5
}
