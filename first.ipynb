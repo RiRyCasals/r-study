{
 "cells": [
  {
   "cell_type": "markdown",
   "id": "ef316b4f",
   "metadata": {},
   "source": [
    "# R Basic\n",
    "## Substitution"
   ]
  },
  {
   "cell_type": "code",
   "execution_count": 1,
   "id": "6fd5e685",
   "metadata": {},
   "outputs": [],
   "source": [
    "a <- 111\n",
    "b = 999\n",
    "テスト = 789"
   ]
  },
  {
   "cell_type": "code",
   "execution_count": 2,
   "id": "fc12ebb9",
   "metadata": {},
   "outputs": [
    {
     "data": {
      "text/html": [
       "<style>\n",
       ".list-inline {list-style: none; margin:0; padding: 0}\n",
       ".list-inline>li {display: inline-block}\n",
       ".list-inline>li:not(:last-child)::after {content: \"\\00b7\"; padding: 0 .5ex}\n",
       "</style>\n",
       "<ol class=list-inline><li>'a'</li><li>'b'</li><li>'テスト'</li></ol>\n"
      ],
      "text/latex": [
       "\\begin{enumerate*}\n",
       "\\item 'a'\n",
       "\\item 'b'\n",
       "\\item 'テスト'\n",
       "\\end{enumerate*}\n"
      ],
      "text/markdown": [
       "1. 'a'\n",
       "2. 'b'\n",
       "3. 'テスト'\n",
       "\n",
       "\n"
      ],
      "text/plain": [
       "[1] \"a\"      \"b\"      \"テスト\""
      ]
     },
     "metadata": {},
     "output_type": "display_data"
    }
   ],
   "source": [
    "ls()"
   ]
  },
  {
   "cell_type": "markdown",
   "id": "ab95988b",
   "metadata": {},
   "source": [
    "## Arithmetic"
   ]
  },
  {
   "cell_type": "code",
   "execution_count": 15,
   "id": "a49cf17d",
   "metadata": {},
   "outputs": [
    {
     "data": {
      "text/html": [
       "5"
      ],
      "text/latex": [
       "5"
      ],
      "text/markdown": [
       "5"
      ],
      "text/plain": [
       "[1] 5"
      ]
     },
     "metadata": {},
     "output_type": "display_data"
    },
    {
     "data": {
      "text/html": [
       "-1"
      ],
      "text/latex": [
       "-1"
      ],
      "text/markdown": [
       "-1"
      ],
      "text/plain": [
       "[1] -1"
      ]
     },
     "metadata": {},
     "output_type": "display_data"
    },
    {
     "data": {
      "text/html": [
       "6"
      ],
      "text/latex": [
       "6"
      ],
      "text/markdown": [
       "6"
      ],
      "text/plain": [
       "[1] 6"
      ]
     },
     "metadata": {},
     "output_type": "display_data"
    },
    {
     "data": {
      "text/html": [
       "0.666666666666667"
      ],
      "text/latex": [
       "0.666666666666667"
      ],
      "text/markdown": [
       "0.666666666666667"
      ],
      "text/plain": [
       "[1] 0.6666667"
      ]
     },
     "metadata": {},
     "output_type": "display_data"
    },
    {
     "data": {
      "text/html": [
       "8"
      ],
      "text/latex": [
       "8"
      ],
      "text/markdown": [
       "8"
      ],
      "text/plain": [
       "[1] 8"
      ]
     },
     "metadata": {},
     "output_type": "display_data"
    }
   ],
   "source": [
    "2 + 3\n",
    "2 - 3\n",
    "2 * 3\n",
    "2 / 3\n",
    "2 ^ 3"
   ]
  },
  {
   "cell_type": "markdown",
   "id": "21363cf3",
   "metadata": {},
   "source": [
    "## Simple statistical analysis"
   ]
  },
  {
   "cell_type": "code",
   "execution_count": 11,
   "id": "e5bfb92d",
   "metadata": {},
   "outputs": [],
   "source": [
    "# c is an abbreviation for combine\n",
    "height = c(160, 167, 169, 181, 173)"
   ]
  },
  {
   "cell_type": "code",
   "execution_count": 16,
   "id": "5a3800e5",
   "metadata": {},
   "outputs": [
    {
     "data": {
      "text/html": [
       "170"
      ],
      "text/latex": [
       "170"
      ],
      "text/markdown": [
       "170"
      ],
      "text/plain": [
       "[1] 170"
      ]
     },
     "metadata": {},
     "output_type": "display_data"
    },
    {
     "data": {
      "text/html": [
       "7.74596669241483"
      ],
      "text/latex": [
       "7.74596669241483"
      ],
      "text/markdown": [
       "7.74596669241483"
      ],
      "text/plain": [
       "[1] 7.745967"
      ]
     },
     "metadata": {},
     "output_type": "display_data"
    }
   ],
   "source": [
    "# sd is an abbreviation for standard-diviation\n",
    "mean(height)\n",
    "sd(height)"
   ]
  },
  {
   "cell_type": "code",
   "execution_count": 28,
   "id": "76f26814",
   "metadata": {},
   "outputs": [],
   "source": [
    "sex = c(\"f\", \"f\", \"m\", \"m\", \"f\")\n",
    "factor_sex = factor(sex)"
   ]
  },
  {
   "cell_type": "code",
   "execution_count": 29,
   "id": "560afb5f",
   "metadata": {},
   "outputs": [
    {
     "data": {
      "text/html": [
       "<style>\n",
       ".list-inline {list-style: none; margin:0; padding: 0}\n",
       ".list-inline>li {display: inline-block}\n",
       ".list-inline>li:not(:last-child)::after {content: \"\\00b7\"; padding: 0 .5ex}\n",
       "</style>\n",
       "<ol class=list-inline><li>f</li><li>f</li><li>m</li><li>m</li><li>f</li></ol>\n",
       "\n",
       "<details>\n",
       "\t<summary style=display:list-item;cursor:pointer>\n",
       "\t\t<strong>Levels</strong>:\n",
       "\t</summary>\n",
       "\t<style>\n",
       "\t.list-inline {list-style: none; margin:0; padding: 0}\n",
       "\t.list-inline>li {display: inline-block}\n",
       "\t.list-inline>li:not(:last-child)::after {content: \"\\00b7\"; padding: 0 .5ex}\n",
       "\t</style>\n",
       "\t<ol class=list-inline><li>'f'</li><li>'m'</li></ol>\n",
       "</details>"
      ],
      "text/latex": [
       "\\begin{enumerate*}\n",
       "\\item f\n",
       "\\item f\n",
       "\\item m\n",
       "\\item m\n",
       "\\item f\n",
       "\\end{enumerate*}\n",
       "\n",
       "\\emph{Levels}: \\begin{enumerate*}\n",
       "\\item 'f'\n",
       "\\item 'm'\n",
       "\\end{enumerate*}\n"
      ],
      "text/markdown": [
       "1. f\n",
       "2. f\n",
       "3. m\n",
       "4. m\n",
       "5. f\n",
       "\n",
       "\n",
       "\n",
       "**Levels**: 1. 'f'\n",
       "2. 'm'\n",
       "\n",
       "\n"
      ],
      "text/plain": [
       "[1] f f m m f\n",
       "Levels: f m"
      ]
     },
     "metadata": {},
     "output_type": "display_data"
    },
    {
     "data": {
      "text/html": [
       "'factor'"
      ],
      "text/latex": [
       "'factor'"
      ],
      "text/markdown": [
       "'factor'"
      ],
      "text/plain": [
       "[1] \"factor\""
      ]
     },
     "metadata": {},
     "output_type": "display_data"
    }
   ],
   "source": [
    "factor_sex\n",
    "class(factor_sex)"
   ]
  },
  {
   "cell_type": "code",
   "execution_count": 21,
   "id": "cd0b0a39",
   "metadata": {},
   "outputs": [],
   "source": [
    "height_and_sex = c(height, sex)"
   ]
  },
  {
   "cell_type": "code",
   "execution_count": 24,
   "id": "4aa94dd8",
   "metadata": {},
   "outputs": [
    {
     "data": {
      "text/html": [
       "<style>\n",
       ".list-inline {list-style: none; margin:0; padding: 0}\n",
       ".list-inline>li {display: inline-block}\n",
       ".list-inline>li:not(:last-child)::after {content: \"\\00b7\"; padding: 0 .5ex}\n",
       "</style>\n",
       "<ol class=list-inline><li>'160'</li><li>'167'</li><li>'169'</li><li>'181'</li><li>'173'</li><li>'f'</li><li>'f'</li><li>'m'</li><li>'m'</li><li>'f'</li></ol>\n"
      ],
      "text/latex": [
       "\\begin{enumerate*}\n",
       "\\item '160'\n",
       "\\item '167'\n",
       "\\item '169'\n",
       "\\item '181'\n",
       "\\item '173'\n",
       "\\item 'f'\n",
       "\\item 'f'\n",
       "\\item 'm'\n",
       "\\item 'm'\n",
       "\\item 'f'\n",
       "\\end{enumerate*}\n"
      ],
      "text/markdown": [
       "1. '160'\n",
       "2. '167'\n",
       "3. '169'\n",
       "4. '181'\n",
       "5. '173'\n",
       "6. 'f'\n",
       "7. 'f'\n",
       "8. 'm'\n",
       "9. 'm'\n",
       "10. 'f'\n",
       "\n",
       "\n"
      ],
      "text/plain": [
       " [1] \"160\" \"167\" \"169\" \"181\" \"173\" \"f\"   \"f\"   \"m\"   \"m\"   \"f\"  "
      ]
     },
     "metadata": {},
     "output_type": "display_data"
    },
    {
     "data": {
      "text/html": [
       "'numeric'"
      ],
      "text/latex": [
       "'numeric'"
      ],
      "text/markdown": [
       "'numeric'"
      ],
      "text/plain": [
       "[1] \"numeric\""
      ]
     },
     "metadata": {},
     "output_type": "display_data"
    },
    {
     "data": {
      "text/html": [
       "'character'"
      ],
      "text/latex": [
       "'character'"
      ],
      "text/markdown": [
       "'character'"
      ],
      "text/plain": [
       "[1] \"character\""
      ]
     },
     "metadata": {},
     "output_type": "display_data"
    },
    {
     "data": {
      "text/html": [
       "'character'"
      ],
      "text/latex": [
       "'character'"
      ],
      "text/markdown": [
       "'character'"
      ],
      "text/plain": [
       "[1] \"character\""
      ]
     },
     "metadata": {},
     "output_type": "display_data"
    }
   ],
   "source": [
    "height_and_sex\n",
    "class(height)\n",
    "class(sex)\n",
    "class(height_and_sex)"
   ]
  },
  {
   "cell_type": "code",
   "execution_count": 34,
   "id": "05327340",
   "metadata": {},
   "outputs": [
    {
     "name": "stdout",
     "output_type": "stream",
     "text": [
      " num [1:5] 160 167 169 181 173\n",
      " Factor w/ 2 levels \"f\",\"m\": 1 1 2 2 1\n",
      " chr [1:10] \"160\" \"167\" \"169\" \"181\" \"173\" \"f\" \"f\" \"m\" \"m\" \"f\"\n"
     ]
    }
   ],
   "source": [
    "# str is an abbreviation for structure\n",
    "str(height)\n",
    "str(factor_sex)\n",
    "str(height_and_sex)"
   ]
  },
  {
   "cell_type": "markdown",
   "id": "1b2410de",
   "metadata": {},
   "source": [
    "## see help\n",
    "\n",
    "find out how to use\n",
    "\n",
    "- help(~)\n",
    "- ?~\n",
    "\n",
    "serch by keyword\n",
    "\n",
    "- help.search(~)\n",
    "- ??~"
   ]
  }
 ],
 "metadata": {
  "kernelspec": {
   "display_name": "R",
   "language": "R",
   "name": "ir"
  },
  "language_info": {
   "codemirror_mode": "r",
   "file_extension": ".r",
   "mimetype": "text/x-r-source",
   "name": "R",
   "pygments_lexer": "r",
   "version": "4.0.3"
  }
 },
 "nbformat": 4,
 "nbformat_minor": 5
}
