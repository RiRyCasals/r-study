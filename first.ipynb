{
 "cells": [
  {
   "cell_type": "markdown",
   "id": "ef316b4f",
   "metadata": {},
   "source": [
    "# R Basic\n",
    "## Substitution"
   ]
  },
  {
   "cell_type": "code",
   "execution_count": 1,
   "id": "6fd5e685",
   "metadata": {},
   "outputs": [],
   "source": [
    "a <- 111\n",
    "b = 999\n",
    "テスト = 789"
   ]
  },
  {
   "cell_type": "code",
   "execution_count": 2,
   "id": "fc12ebb9",
   "metadata": {},
   "outputs": [
    {
     "data": {
      "text/html": [
       "<style>\n",
       ".list-inline {list-style: none; margin:0; padding: 0}\n",
       ".list-inline>li {display: inline-block}\n",
       ".list-inline>li:not(:last-child)::after {content: \"\\00b7\"; padding: 0 .5ex}\n",
       "</style>\n",
       "<ol class=list-inline><li>'a'</li><li>'b'</li><li>'テスト'</li></ol>\n"
      ],
      "text/latex": [
       "\\begin{enumerate*}\n",
       "\\item 'a'\n",
       "\\item 'b'\n",
       "\\item 'テスト'\n",
       "\\end{enumerate*}\n"
      ],
      "text/markdown": [
       "1. 'a'\n",
       "2. 'b'\n",
       "3. 'テスト'\n",
       "\n",
       "\n"
      ],
      "text/plain": [
       "[1] \"a\"      \"b\"      \"テスト\""
      ]
     },
     "metadata": {},
     "output_type": "display_data"
    }
   ],
   "source": [
    "ls()"
   ]
  },
  {
   "cell_type": "markdown",
   "id": "ab95988b",
   "metadata": {},
   "source": [
    "## Arithmetic"
   ]
  },
  {
   "cell_type": "code",
   "execution_count": 3,
   "id": "a49cf17d",
   "metadata": {},
   "outputs": [
    {
     "data": {
      "text/html": [
       "5"
      ],
      "text/latex": [
       "5"
      ],
      "text/markdown": [
       "5"
      ],
      "text/plain": [
       "[1] 5"
      ]
     },
     "metadata": {},
     "output_type": "display_data"
    },
    {
     "data": {
      "text/html": [
       "-1"
      ],
      "text/latex": [
       "-1"
      ],
      "text/markdown": [
       "-1"
      ],
      "text/plain": [
       "[1] -1"
      ]
     },
     "metadata": {},
     "output_type": "display_data"
    },
    {
     "data": {
      "text/html": [
       "6"
      ],
      "text/latex": [
       "6"
      ],
      "text/markdown": [
       "6"
      ],
      "text/plain": [
       "[1] 6"
      ]
     },
     "metadata": {},
     "output_type": "display_data"
    },
    {
     "data": {
      "text/html": [
       "0.666666666666667"
      ],
      "text/latex": [
       "0.666666666666667"
      ],
      "text/markdown": [
       "0.666666666666667"
      ],
      "text/plain": [
       "[1] 0.6666667"
      ]
     },
     "metadata": {},
     "output_type": "display_data"
    },
    {
     "data": {
      "text/html": [
       "8"
      ],
      "text/latex": [
       "8"
      ],
      "text/markdown": [
       "8"
      ],
      "text/plain": [
       "[1] 8"
      ]
     },
     "metadata": {},
     "output_type": "display_data"
    }
   ],
   "source": [
    "2 + 3\n",
    "2 - 3\n",
    "2 * 3\n",
    "2 / 3\n",
    "2 ^ 3"
   ]
  },
  {
   "cell_type": "markdown",
   "id": "21363cf3",
   "metadata": {},
   "source": [
    "## Simple statistical analysis"
   ]
  },
  {
   "cell_type": "code",
   "execution_count": 4,
   "id": "e5bfb92d",
   "metadata": {},
   "outputs": [],
   "source": [
    "# c is an abbreviation for combine\n",
    "height = c(160, 167, 169, 181, 173)"
   ]
  },
  {
   "cell_type": "code",
   "execution_count": 5,
   "id": "5a3800e5",
   "metadata": {},
   "outputs": [
    {
     "data": {
      "text/html": [
       "170"
      ],
      "text/latex": [
       "170"
      ],
      "text/markdown": [
       "170"
      ],
      "text/plain": [
       "[1] 170"
      ]
     },
     "metadata": {},
     "output_type": "display_data"
    },
    {
     "data": {
      "text/html": [
       "7.74596669241483"
      ],
      "text/latex": [
       "7.74596669241483"
      ],
      "text/markdown": [
       "7.74596669241483"
      ],
      "text/plain": [
       "[1] 7.745967"
      ]
     },
     "metadata": {},
     "output_type": "display_data"
    }
   ],
   "source": [
    "# sd is an abbreviation for standard-diviation\n",
    "mean(height)\n",
    "sd(height)"
   ]
  },
  {
   "cell_type": "code",
   "execution_count": 6,
   "id": "76f26814",
   "metadata": {},
   "outputs": [],
   "source": [
    "sex = c(\"f\", \"f\", \"m\", \"m\", \"f\")\n",
    "factor_sex = factor(sex)"
   ]
  },
  {
   "cell_type": "code",
   "execution_count": 7,
   "id": "560afb5f",
   "metadata": {},
   "outputs": [
    {
     "data": {
      "text/html": [
       "<style>\n",
       ".list-inline {list-style: none; margin:0; padding: 0}\n",
       ".list-inline>li {display: inline-block}\n",
       ".list-inline>li:not(:last-child)::after {content: \"\\00b7\"; padding: 0 .5ex}\n",
       "</style>\n",
       "<ol class=list-inline><li>f</li><li>f</li><li>m</li><li>m</li><li>f</li></ol>\n",
       "\n",
       "<details>\n",
       "\t<summary style=display:list-item;cursor:pointer>\n",
       "\t\t<strong>Levels</strong>:\n",
       "\t</summary>\n",
       "\t<style>\n",
       "\t.list-inline {list-style: none; margin:0; padding: 0}\n",
       "\t.list-inline>li {display: inline-block}\n",
       "\t.list-inline>li:not(:last-child)::after {content: \"\\00b7\"; padding: 0 .5ex}\n",
       "\t</style>\n",
       "\t<ol class=list-inline><li>'f'</li><li>'m'</li></ol>\n",
       "</details>"
      ],
      "text/latex": [
       "\\begin{enumerate*}\n",
       "\\item f\n",
       "\\item f\n",
       "\\item m\n",
       "\\item m\n",
       "\\item f\n",
       "\\end{enumerate*}\n",
       "\n",
       "\\emph{Levels}: \\begin{enumerate*}\n",
       "\\item 'f'\n",
       "\\item 'm'\n",
       "\\end{enumerate*}\n"
      ],
      "text/markdown": [
       "1. f\n",
       "2. f\n",
       "3. m\n",
       "4. m\n",
       "5. f\n",
       "\n",
       "\n",
       "\n",
       "**Levels**: 1. 'f'\n",
       "2. 'm'\n",
       "\n",
       "\n"
      ],
      "text/plain": [
       "[1] f f m m f\n",
       "Levels: f m"
      ]
     },
     "metadata": {},
     "output_type": "display_data"
    },
    {
     "data": {
      "text/html": [
       "'factor'"
      ],
      "text/latex": [
       "'factor'"
      ],
      "text/markdown": [
       "'factor'"
      ],
      "text/plain": [
       "[1] \"factor\""
      ]
     },
     "metadata": {},
     "output_type": "display_data"
    }
   ],
   "source": [
    "factor_sex\n",
    "class(factor_sex)"
   ]
  },
  {
   "cell_type": "code",
   "execution_count": 8,
   "id": "cd0b0a39",
   "metadata": {},
   "outputs": [],
   "source": [
    "height_and_sex = c(height, sex)"
   ]
  },
  {
   "cell_type": "code",
   "execution_count": 9,
   "id": "4aa94dd8",
   "metadata": {},
   "outputs": [
    {
     "data": {
      "text/html": [
       "<style>\n",
       ".list-inline {list-style: none; margin:0; padding: 0}\n",
       ".list-inline>li {display: inline-block}\n",
       ".list-inline>li:not(:last-child)::after {content: \"\\00b7\"; padding: 0 .5ex}\n",
       "</style>\n",
       "<ol class=list-inline><li>'160'</li><li>'167'</li><li>'169'</li><li>'181'</li><li>'173'</li><li>'f'</li><li>'f'</li><li>'m'</li><li>'m'</li><li>'f'</li></ol>\n"
      ],
      "text/latex": [
       "\\begin{enumerate*}\n",
       "\\item '160'\n",
       "\\item '167'\n",
       "\\item '169'\n",
       "\\item '181'\n",
       "\\item '173'\n",
       "\\item 'f'\n",
       "\\item 'f'\n",
       "\\item 'm'\n",
       "\\item 'm'\n",
       "\\item 'f'\n",
       "\\end{enumerate*}\n"
      ],
      "text/markdown": [
       "1. '160'\n",
       "2. '167'\n",
       "3. '169'\n",
       "4. '181'\n",
       "5. '173'\n",
       "6. 'f'\n",
       "7. 'f'\n",
       "8. 'm'\n",
       "9. 'm'\n",
       "10. 'f'\n",
       "\n",
       "\n"
      ],
      "text/plain": [
       " [1] \"160\" \"167\" \"169\" \"181\" \"173\" \"f\"   \"f\"   \"m\"   \"m\"   \"f\"  "
      ]
     },
     "metadata": {},
     "output_type": "display_data"
    },
    {
     "data": {
      "text/html": [
       "'numeric'"
      ],
      "text/latex": [
       "'numeric'"
      ],
      "text/markdown": [
       "'numeric'"
      ],
      "text/plain": [
       "[1] \"numeric\""
      ]
     },
     "metadata": {},
     "output_type": "display_data"
    },
    {
     "data": {
      "text/html": [
       "'character'"
      ],
      "text/latex": [
       "'character'"
      ],
      "text/markdown": [
       "'character'"
      ],
      "text/plain": [
       "[1] \"character\""
      ]
     },
     "metadata": {},
     "output_type": "display_data"
    },
    {
     "data": {
      "text/html": [
       "'character'"
      ],
      "text/latex": [
       "'character'"
      ],
      "text/markdown": [
       "'character'"
      ],
      "text/plain": [
       "[1] \"character\""
      ]
     },
     "metadata": {},
     "output_type": "display_data"
    }
   ],
   "source": [
    "height_and_sex\n",
    "class(height)\n",
    "class(sex)\n",
    "class(height_and_sex)"
   ]
  },
  {
   "cell_type": "code",
   "execution_count": 10,
   "id": "05327340",
   "metadata": {},
   "outputs": [
    {
     "name": "stdout",
     "output_type": "stream",
     "text": [
      " num [1:5] 160 167 169 181 173\n",
      " Factor w/ 2 levels \"f\",\"m\": 1 1 2 2 1\n",
      " chr [1:10] \"160\" \"167\" \"169\" \"181\" \"173\" \"f\" \"f\" \"m\" \"m\" \"f\"\n"
     ]
    }
   ],
   "source": [
    "# str is an abbreviation for structure\n",
    "str(height)\n",
    "str(factor_sex)\n",
    "str(height_and_sex)"
   ]
  },
  {
   "cell_type": "markdown",
   "id": "90b32b6e",
   "metadata": {},
   "source": [
    "## delete variable"
   ]
  },
  {
   "cell_type": "code",
   "execution_count": 11,
   "id": "acfb4934",
   "metadata": {},
   "outputs": [
    {
     "data": {
      "text/html": [],
      "text/latex": [],
      "text/markdown": [],
      "text/plain": [
       "character(0)"
      ]
     },
     "metadata": {},
     "output_type": "display_data"
    }
   ],
   "source": [
    "rm(list=ls())\n",
    "ls()"
   ]
  },
  {
   "cell_type": "markdown",
   "id": "e4b627f1",
   "metadata": {},
   "source": [
    "## get working directory"
   ]
  },
  {
   "cell_type": "code",
   "execution_count": 12,
   "id": "8cc8faae",
   "metadata": {},
   "outputs": [
    {
     "data": {
      "text/html": [
       "'/home/work'"
      ],
      "text/latex": [
       "'/home/work'"
      ],
      "text/markdown": [
       "'/home/work'"
      ],
      "text/plain": [
       "[1] \"/home/work\""
      ]
     },
     "metadata": {},
     "output_type": "display_data"
    }
   ],
   "source": [
    "getwd()"
   ]
  },
  {
   "cell_type": "markdown",
   "id": "8b9d5579",
   "metadata": {},
   "source": [
    "## read csv file"
   ]
  },
  {
   "cell_type": "code",
   "execution_count": 13,
   "id": "3e18e275",
   "metadata": {},
   "outputs": [],
   "source": [
    "data = read.csv('read.csv')"
   ]
  },
  {
   "cell_type": "code",
   "execution_count": 14,
   "id": "cb3cb71e",
   "metadata": {},
   "outputs": [
    {
     "data": {
      "text/html": [
       "<table class=\"dataframe\">\n",
       "<caption>A data.frame: 5 × 4</caption>\n",
       "<thead>\n",
       "\t<tr><th scope=col>id</th><th scope=col>sex</th><th scope=col>testA</th><th scope=col>testB</th></tr>\n",
       "\t<tr><th scope=col>&lt;int&gt;</th><th scope=col>&lt;chr&gt;</th><th scope=col>&lt;int&gt;</th><th scope=col>&lt;int&gt;</th></tr>\n",
       "</thead>\n",
       "<tbody>\n",
       "\t<tr><td>1</td><td>f</td><td>56</td><td>51</td></tr>\n",
       "\t<tr><td>2</td><td>f</td><td>67</td><td>45</td></tr>\n",
       "\t<tr><td>3</td><td>m</td><td>43</td><td>72</td></tr>\n",
       "\t<tr><td>4</td><td>m</td><td>19</td><td>70</td></tr>\n",
       "\t<tr><td>5</td><td>m</td><td>38</td><td>59</td></tr>\n",
       "</tbody>\n",
       "</table>\n"
      ],
      "text/latex": [
       "A data.frame: 5 × 4\n",
       "\\begin{tabular}{llll}\n",
       " id & sex & testA & testB\\\\\n",
       " <int> & <chr> & <int> & <int>\\\\\n",
       "\\hline\n",
       "\t 1 & f & 56 & 51\\\\\n",
       "\t 2 & f & 67 & 45\\\\\n",
       "\t 3 & m & 43 & 72\\\\\n",
       "\t 4 & m & 19 & 70\\\\\n",
       "\t 5 & m & 38 & 59\\\\\n",
       "\\end{tabular}\n"
      ],
      "text/markdown": [
       "\n",
       "A data.frame: 5 × 4\n",
       "\n",
       "| id &lt;int&gt; | sex &lt;chr&gt; | testA &lt;int&gt; | testB &lt;int&gt; |\n",
       "|---|---|---|---|\n",
       "| 1 | f | 56 | 51 |\n",
       "| 2 | f | 67 | 45 |\n",
       "| 3 | m | 43 | 72 |\n",
       "| 4 | m | 19 | 70 |\n",
       "| 5 | m | 38 | 59 |\n",
       "\n"
      ],
      "text/plain": [
       "  id sex testA testB\n",
       "1 1  f   56    51   \n",
       "2 2  f   67    45   \n",
       "3 3  m   43    72   \n",
       "4 4  m   19    70   \n",
       "5 5  m   38    59   "
      ]
     },
     "metadata": {},
     "output_type": "display_data"
    }
   ],
   "source": [
    "data"
   ]
  },
  {
   "cell_type": "code",
   "execution_count": 15,
   "id": "de799573",
   "metadata": {},
   "outputs": [
    {
     "data": {
      "text/html": [
       "<style>\n",
       ".list-inline {list-style: none; margin:0; padding: 0}\n",
       ".list-inline>li {display: inline-block}\n",
       ".list-inline>li:not(:last-child)::after {content: \"\\00b7\"; padding: 0 .5ex}\n",
       "</style>\n",
       "<ol class=list-inline><li>56</li><li>67</li><li>43</li><li>19</li><li>38</li></ol>\n"
      ],
      "text/latex": [
       "\\begin{enumerate*}\n",
       "\\item 56\n",
       "\\item 67\n",
       "\\item 43\n",
       "\\item 19\n",
       "\\item 38\n",
       "\\end{enumerate*}\n"
      ],
      "text/markdown": [
       "1. 56\n",
       "2. 67\n",
       "3. 43\n",
       "4. 19\n",
       "5. 38\n",
       "\n",
       "\n"
      ],
      "text/plain": [
       "[1] 56 67 43 19 38"
      ]
     },
     "metadata": {},
     "output_type": "display_data"
    },
    {
     "data": {
      "text/html": [
       "18.2565056897534"
      ],
      "text/latex": [
       "18.2565056897534"
      ],
      "text/markdown": [
       "18.2565056897534"
      ],
      "text/plain": [
       "[1] 18.25651"
      ]
     },
     "metadata": {},
     "output_type": "display_data"
    }
   ],
   "source": [
    "data$testA\n",
    "sd(data$testA)"
   ]
  },
  {
   "cell_type": "code",
   "execution_count": 16,
   "id": "d96449fa",
   "metadata": {},
   "outputs": [
    {
     "data": {
      "text/html": [
       "'data.frame'"
      ],
      "text/latex": [
       "'data.frame'"
      ],
      "text/markdown": [
       "'data.frame'"
      ],
      "text/plain": [
       "[1] \"data.frame\""
      ]
     },
     "metadata": {},
     "output_type": "display_data"
    }
   ],
   "source": [
    "class(data)"
   ]
  },
  {
   "cell_type": "markdown",
   "id": "1b2410de",
   "metadata": {},
   "source": [
    "## see help\n",
    "\n",
    "find out how to use\n",
    "\n",
    "- help(~)\n",
    "- ?~\n",
    "\n",
    "serch by keyword\n",
    "\n",
    "- help.search(~)\n",
    "- ??~"
   ]
  }
 ],
 "metadata": {
  "kernelspec": {
   "display_name": "R",
   "language": "R",
   "name": "ir"
  },
  "language_info": {
   "codemirror_mode": "r",
   "file_extension": ".r",
   "mimetype": "text/x-r-source",
   "name": "R",
   "pygments_lexer": "r",
   "version": "4.0.3"
  }
 },
 "nbformat": 4,
 "nbformat_minor": 5
}
