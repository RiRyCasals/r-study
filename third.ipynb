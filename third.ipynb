{
 "cells": [
  {
   "cell_type": "markdown",
   "id": "ccf411d4",
   "metadata": {},
   "source": [
    "# Handing of missing values"
   ]
  },
  {
   "cell_type": "code",
   "execution_count": 3,
   "id": "2f6987bc",
   "metadata": {},
   "outputs": [
    {
     "data": {
      "text/html": [
       "<table class=\"dataframe\">\n",
       "<caption>A data.frame: 36 × 8</caption>\n",
       "<thead>\n",
       "\t<tr><th scope=col>id</th><th scope=col>sex</th><th scope=col>birthplace</th><th scope=col>in_out</th><th scope=col>television</th><th scope=col>sociability</th><th scope=col>before</th><th scope=col>after</th></tr>\n",
       "\t<tr><th scope=col>&lt;int&gt;</th><th scope=col>&lt;chr&gt;</th><th scope=col>&lt;chr&gt;</th><th scope=col>&lt;chr&gt;</th><th scope=col>&lt;int&gt;</th><th scope=col>&lt;int&gt;</th><th scope=col>&lt;int&gt;</th><th scope=col>&lt;int&gt;</th></tr>\n",
       "</thead>\n",
       "<tbody>\n",
       "\t<tr><td> 1</td><td>f</td><td>a</td><td>i</td><td> 7</td><td>5</td><td>49</td><td>71</td></tr>\n",
       "\t<tr><td> 2</td><td>f</td><td>b</td><td>i</td><td> 1</td><td>7</td><td>47</td><td>68</td></tr>\n",
       "\t<tr><td> 3</td><td>f</td><td>c</td><td>o</td><td> 1</td><td>8</td><td>57</td><td>81</td></tr>\n",
       "\t<tr><td> 4</td><td>f</td><td>b</td><td>o</td><td> 3</td><td>8</td><td>52</td><td>71</td></tr>\n",
       "\t<tr><td> 5</td><td>f</td><td>c</td><td>o</td><td>NA</td><td>9</td><td>53</td><td>61</td></tr>\n",
       "\t<tr><td> 6</td><td>m</td><td>a</td><td>i</td><td> 6</td><td>5</td><td>63</td><td>66</td></tr>\n",
       "\t<tr><td> 7</td><td>f</td><td>a</td><td>o</td><td> 4</td><td>6</td><td>56</td><td>70</td></tr>\n",
       "\t<tr><td> 8</td><td>m</td><td>c</td><td>o</td><td> 5</td><td>3</td><td>65</td><td>64</td></tr>\n",
       "\t<tr><td> 9</td><td>m</td><td>b</td><td>o</td><td> 3</td><td>5</td><td>75</td><td>74</td></tr>\n",
       "\t<tr><td>10</td><td>m</td><td>a</td><td>i</td><td> 4</td><td>3</td><td>NA</td><td>78</td></tr>\n",
       "\t<tr><td>11</td><td>f</td><td>a</td><td>i</td><td> 8</td><td>3</td><td>55</td><td>66</td></tr>\n",
       "\t<tr><td>12</td><td>f</td><td>a</td><td>i</td><td> 6</td><td>5</td><td>61</td><td>71</td></tr>\n",
       "\t<tr><td>13</td><td>m</td><td>b</td><td>i</td><td> 2</td><td>3</td><td>70</td><td>68</td></tr>\n",
       "\t<tr><td>14</td><td>m</td><td>b</td><td>i</td><td> 5</td><td>2</td><td>69</td><td>65</td></tr>\n",
       "\t<tr><td>15</td><td>m</td><td>a</td><td>i</td><td> 3</td><td>5</td><td>65</td><td>71</td></tr>\n",
       "\t<tr><td>16</td><td>f</td><td>b</td><td>i</td><td> 4</td><td>3</td><td>60</td><td>59</td></tr>\n",
       "\t<tr><td>17</td><td>m</td><td>b</td><td>i</td><td> 5</td><td>3</td><td>70</td><td>62</td></tr>\n",
       "\t<tr><td>18</td><td>m</td><td>c</td><td>o</td><td> 2</td><td>6</td><td>63</td><td>61</td></tr>\n",
       "\t<tr><td>19</td><td>m</td><td>c</td><td>o</td><td> 1</td><td>7</td><td>68</td><td>66</td></tr>\n",
       "\t<tr><td>20</td><td>f</td><td>c</td><td>o</td><td> 4</td><td>3</td><td>54</td><td>53</td></tr>\n",
       "\t<tr><td>21</td><td>f</td><td> </td><td>o</td><td> 2</td><td>8</td><td>60</td><td>78</td></tr>\n",
       "\t<tr><td>22</td><td>m</td><td>a</td><td>i</td><td> 7</td><td>3</td><td>69</td><td>68</td></tr>\n",
       "\t<tr><td>23</td><td>m</td><td>c</td><td>o</td><td> 2</td><td>8</td><td>64</td><td>65</td></tr>\n",
       "\t<tr><td>24</td><td>f</td><td>a</td><td>o</td><td> 7</td><td>4</td><td>52</td><td>67</td></tr>\n",
       "\t<tr><td>25</td><td>m</td><td>a</td><td>o</td><td> 3</td><td>6</td><td>58</td><td>69</td></tr>\n",
       "\t<tr><td>26</td><td>m</td><td>c</td><td>o</td><td> 1</td><td>7</td><td>65</td><td>71</td></tr>\n",
       "\t<tr><td>27</td><td>m</td><td>b</td><td>o</td><td> 1</td><td>8</td><td>64</td><td>79</td></tr>\n",
       "\t<tr><td>28</td><td>f</td><td>c</td><td>o</td><td> 4</td><td>4</td><td>59</td><td>64</td></tr>\n",
       "\t<tr><td>29</td><td>f</td><td>c</td><td>i</td><td> 3</td><td>6</td><td>45</td><td>51</td></tr>\n",
       "\t<tr><td>30</td><td>f</td><td>b</td><td>i</td><td> 5</td><td>6</td><td>50</td><td>49</td></tr>\n",
       "\t<tr><td>31</td><td>m</td><td>b</td><td>o</td><td> 1</td><td>9</td><td>72</td><td>71</td></tr>\n",
       "\t<tr><td>32</td><td>f</td><td>b</td><td>i</td><td> 7</td><td>3</td><td>55</td><td>60</td></tr>\n",
       "\t<tr><td>33</td><td>m</td><td>c</td><td>i</td><td> 7</td><td>4</td><td>79</td><td>77</td></tr>\n",
       "\t<tr><td>34</td><td>f</td><td>c</td><td>o</td><td> 4</td><td>7</td><td>60</td><td>58</td></tr>\n",
       "\t<tr><td>35</td><td>f</td><td>b</td><td>i</td><td> 8</td><td>3</td><td>53</td><td>67</td></tr>\n",
       "\t<tr><td>36</td><td>m</td><td>a</td><td>o</td><td> 5</td><td>7</td><td>57</td><td>72</td></tr>\n",
       "</tbody>\n",
       "</table>\n"
      ],
      "text/latex": [
       "A data.frame: 36 × 8\n",
       "\\begin{tabular}{llllllll}\n",
       " id & sex & birthplace & in\\_out & television & sociability & before & after\\\\\n",
       " <int> & <chr> & <chr> & <chr> & <int> & <int> & <int> & <int>\\\\\n",
       "\\hline\n",
       "\t  1 & f & a & i &  7 & 5 & 49 & 71\\\\\n",
       "\t  2 & f & b & i &  1 & 7 & 47 & 68\\\\\n",
       "\t  3 & f & c & o &  1 & 8 & 57 & 81\\\\\n",
       "\t  4 & f & b & o &  3 & 8 & 52 & 71\\\\\n",
       "\t  5 & f & c & o & NA & 9 & 53 & 61\\\\\n",
       "\t  6 & m & a & i &  6 & 5 & 63 & 66\\\\\n",
       "\t  7 & f & a & o &  4 & 6 & 56 & 70\\\\\n",
       "\t  8 & m & c & o &  5 & 3 & 65 & 64\\\\\n",
       "\t  9 & m & b & o &  3 & 5 & 75 & 74\\\\\n",
       "\t 10 & m & a & i &  4 & 3 & NA & 78\\\\\n",
       "\t 11 & f & a & i &  8 & 3 & 55 & 66\\\\\n",
       "\t 12 & f & a & i &  6 & 5 & 61 & 71\\\\\n",
       "\t 13 & m & b & i &  2 & 3 & 70 & 68\\\\\n",
       "\t 14 & m & b & i &  5 & 2 & 69 & 65\\\\\n",
       "\t 15 & m & a & i &  3 & 5 & 65 & 71\\\\\n",
       "\t 16 & f & b & i &  4 & 3 & 60 & 59\\\\\n",
       "\t 17 & m & b & i &  5 & 3 & 70 & 62\\\\\n",
       "\t 18 & m & c & o &  2 & 6 & 63 & 61\\\\\n",
       "\t 19 & m & c & o &  1 & 7 & 68 & 66\\\\\n",
       "\t 20 & f & c & o &  4 & 3 & 54 & 53\\\\\n",
       "\t 21 & f &   & o &  2 & 8 & 60 & 78\\\\\n",
       "\t 22 & m & a & i &  7 & 3 & 69 & 68\\\\\n",
       "\t 23 & m & c & o &  2 & 8 & 64 & 65\\\\\n",
       "\t 24 & f & a & o &  7 & 4 & 52 & 67\\\\\n",
       "\t 25 & m & a & o &  3 & 6 & 58 & 69\\\\\n",
       "\t 26 & m & c & o &  1 & 7 & 65 & 71\\\\\n",
       "\t 27 & m & b & o &  1 & 8 & 64 & 79\\\\\n",
       "\t 28 & f & c & o &  4 & 4 & 59 & 64\\\\\n",
       "\t 29 & f & c & i &  3 & 6 & 45 & 51\\\\\n",
       "\t 30 & f & b & i &  5 & 6 & 50 & 49\\\\\n",
       "\t 31 & m & b & o &  1 & 9 & 72 & 71\\\\\n",
       "\t 32 & f & b & i &  7 & 3 & 55 & 60\\\\\n",
       "\t 33 & m & c & i &  7 & 4 & 79 & 77\\\\\n",
       "\t 34 & f & c & o &  4 & 7 & 60 & 58\\\\\n",
       "\t 35 & f & b & i &  8 & 3 & 53 & 67\\\\\n",
       "\t 36 & m & a & o &  5 & 7 & 57 & 72\\\\\n",
       "\\end{tabular}\n"
      ],
      "text/markdown": [
       "\n",
       "A data.frame: 36 × 8\n",
       "\n",
       "| id &lt;int&gt; | sex &lt;chr&gt; | birthplace &lt;chr&gt; | in_out &lt;chr&gt; | television &lt;int&gt; | sociability &lt;int&gt; | before &lt;int&gt; | after &lt;int&gt; |\n",
       "|---|---|---|---|---|---|---|---|\n",
       "|  1 | f | a | i |  7 | 5 | 49 | 71 |\n",
       "|  2 | f | b | i |  1 | 7 | 47 | 68 |\n",
       "|  3 | f | c | o |  1 | 8 | 57 | 81 |\n",
       "|  4 | f | b | o |  3 | 8 | 52 | 71 |\n",
       "|  5 | f | c | o | NA | 9 | 53 | 61 |\n",
       "|  6 | m | a | i |  6 | 5 | 63 | 66 |\n",
       "|  7 | f | a | o |  4 | 6 | 56 | 70 |\n",
       "|  8 | m | c | o |  5 | 3 | 65 | 64 |\n",
       "|  9 | m | b | o |  3 | 5 | 75 | 74 |\n",
       "| 10 | m | a | i |  4 | 3 | NA | 78 |\n",
       "| 11 | f | a | i |  8 | 3 | 55 | 66 |\n",
       "| 12 | f | a | i |  6 | 5 | 61 | 71 |\n",
       "| 13 | m | b | i |  2 | 3 | 70 | 68 |\n",
       "| 14 | m | b | i |  5 | 2 | 69 | 65 |\n",
       "| 15 | m | a | i |  3 | 5 | 65 | 71 |\n",
       "| 16 | f | b | i |  4 | 3 | 60 | 59 |\n",
       "| 17 | m | b | i |  5 | 3 | 70 | 62 |\n",
       "| 18 | m | c | o |  2 | 6 | 63 | 61 |\n",
       "| 19 | m | c | o |  1 | 7 | 68 | 66 |\n",
       "| 20 | f | c | o |  4 | 3 | 54 | 53 |\n",
       "| 21 | f | <!----> | o |  2 | 8 | 60 | 78 |\n",
       "| 22 | m | a | i |  7 | 3 | 69 | 68 |\n",
       "| 23 | m | c | o |  2 | 8 | 64 | 65 |\n",
       "| 24 | f | a | o |  7 | 4 | 52 | 67 |\n",
       "| 25 | m | a | o |  3 | 6 | 58 | 69 |\n",
       "| 26 | m | c | o |  1 | 7 | 65 | 71 |\n",
       "| 27 | m | b | o |  1 | 8 | 64 | 79 |\n",
       "| 28 | f | c | o |  4 | 4 | 59 | 64 |\n",
       "| 29 | f | c | i |  3 | 6 | 45 | 51 |\n",
       "| 30 | f | b | i |  5 | 6 | 50 | 49 |\n",
       "| 31 | m | b | o |  1 | 9 | 72 | 71 |\n",
       "| 32 | f | b | i |  7 | 3 | 55 | 60 |\n",
       "| 33 | m | c | i |  7 | 4 | 79 | 77 |\n",
       "| 34 | f | c | o |  4 | 7 | 60 | 58 |\n",
       "| 35 | f | b | i |  8 | 3 | 53 | 67 |\n",
       "| 36 | m | a | o |  5 | 7 | 57 | 72 |\n",
       "\n"
      ],
      "text/plain": [
       "   id sex birthplace in_out television sociability before after\n",
       "1   1 f   a          i       7         5           49     71   \n",
       "2   2 f   b          i       1         7           47     68   \n",
       "3   3 f   c          o       1         8           57     81   \n",
       "4   4 f   b          o       3         8           52     71   \n",
       "5   5 f   c          o      NA         9           53     61   \n",
       "6   6 m   a          i       6         5           63     66   \n",
       "7   7 f   a          o       4         6           56     70   \n",
       "8   8 m   c          o       5         3           65     64   \n",
       "9   9 m   b          o       3         5           75     74   \n",
       "10 10 m   a          i       4         3           NA     78   \n",
       "11 11 f   a          i       8         3           55     66   \n",
       "12 12 f   a          i       6         5           61     71   \n",
       "13 13 m   b          i       2         3           70     68   \n",
       "14 14 m   b          i       5         2           69     65   \n",
       "15 15 m   a          i       3         5           65     71   \n",
       "16 16 f   b          i       4         3           60     59   \n",
       "17 17 m   b          i       5         3           70     62   \n",
       "18 18 m   c          o       2         6           63     61   \n",
       "19 19 m   c          o       1         7           68     66   \n",
       "20 20 f   c          o       4         3           54     53   \n",
       "21 21 f              o       2         8           60     78   \n",
       "22 22 m   a          i       7         3           69     68   \n",
       "23 23 m   c          o       2         8           64     65   \n",
       "24 24 f   a          o       7         4           52     67   \n",
       "25 25 m   a          o       3         6           58     69   \n",
       "26 26 m   c          o       1         7           65     71   \n",
       "27 27 m   b          o       1         8           64     79   \n",
       "28 28 f   c          o       4         4           59     64   \n",
       "29 29 f   c          i       3         6           45     51   \n",
       "30 30 f   b          i       5         6           50     49   \n",
       "31 31 m   b          o       1         9           72     71   \n",
       "32 32 f   b          i       7         3           55     60   \n",
       "33 33 m   c          i       7         4           79     77   \n",
       "34 34 f   c          o       4         7           60     58   \n",
       "35 35 f   b          i       8         3           53     67   \n",
       "36 36 m   a          o       5         7           57     72   "
      ]
     },
     "metadata": {},
     "output_type": "display_data"
    }
   ],
   "source": [
    "df = read.csv('./sample_missing.csv')\n",
    "df"
   ]
  },
  {
   "cell_type": "code",
   "execution_count": 4,
   "id": "083bbafa",
   "metadata": {},
   "outputs": [
    {
     "data": {
      "text/html": [
       "<table class=\"dataframe\">\n",
       "<caption>A matrix: 36 × 8 of type lgl</caption>\n",
       "<thead>\n",
       "\t<tr><th scope=col>id</th><th scope=col>sex</th><th scope=col>birthplace</th><th scope=col>in_out</th><th scope=col>television</th><th scope=col>sociability</th><th scope=col>before</th><th scope=col>after</th></tr>\n",
       "</thead>\n",
       "<tbody>\n",
       "\t<tr><td>FALSE</td><td>FALSE</td><td>FALSE</td><td>FALSE</td><td>FALSE</td><td>FALSE</td><td>FALSE</td><td>FALSE</td></tr>\n",
       "\t<tr><td>FALSE</td><td>FALSE</td><td>FALSE</td><td>FALSE</td><td>FALSE</td><td>FALSE</td><td>FALSE</td><td>FALSE</td></tr>\n",
       "\t<tr><td>FALSE</td><td>FALSE</td><td>FALSE</td><td>FALSE</td><td>FALSE</td><td>FALSE</td><td>FALSE</td><td>FALSE</td></tr>\n",
       "\t<tr><td>FALSE</td><td>FALSE</td><td>FALSE</td><td>FALSE</td><td>FALSE</td><td>FALSE</td><td>FALSE</td><td>FALSE</td></tr>\n",
       "\t<tr><td>FALSE</td><td>FALSE</td><td>FALSE</td><td>FALSE</td><td> TRUE</td><td>FALSE</td><td>FALSE</td><td>FALSE</td></tr>\n",
       "\t<tr><td>FALSE</td><td>FALSE</td><td>FALSE</td><td>FALSE</td><td>FALSE</td><td>FALSE</td><td>FALSE</td><td>FALSE</td></tr>\n",
       "\t<tr><td>FALSE</td><td>FALSE</td><td>FALSE</td><td>FALSE</td><td>FALSE</td><td>FALSE</td><td>FALSE</td><td>FALSE</td></tr>\n",
       "\t<tr><td>FALSE</td><td>FALSE</td><td>FALSE</td><td>FALSE</td><td>FALSE</td><td>FALSE</td><td>FALSE</td><td>FALSE</td></tr>\n",
       "\t<tr><td>FALSE</td><td>FALSE</td><td>FALSE</td><td>FALSE</td><td>FALSE</td><td>FALSE</td><td>FALSE</td><td>FALSE</td></tr>\n",
       "\t<tr><td>FALSE</td><td>FALSE</td><td>FALSE</td><td>FALSE</td><td>FALSE</td><td>FALSE</td><td> TRUE</td><td>FALSE</td></tr>\n",
       "\t<tr><td>FALSE</td><td>FALSE</td><td>FALSE</td><td>FALSE</td><td>FALSE</td><td>FALSE</td><td>FALSE</td><td>FALSE</td></tr>\n",
       "\t<tr><td>FALSE</td><td>FALSE</td><td>FALSE</td><td>FALSE</td><td>FALSE</td><td>FALSE</td><td>FALSE</td><td>FALSE</td></tr>\n",
       "\t<tr><td>FALSE</td><td>FALSE</td><td>FALSE</td><td>FALSE</td><td>FALSE</td><td>FALSE</td><td>FALSE</td><td>FALSE</td></tr>\n",
       "\t<tr><td>FALSE</td><td>FALSE</td><td>FALSE</td><td>FALSE</td><td>FALSE</td><td>FALSE</td><td>FALSE</td><td>FALSE</td></tr>\n",
       "\t<tr><td>FALSE</td><td>FALSE</td><td>FALSE</td><td>FALSE</td><td>FALSE</td><td>FALSE</td><td>FALSE</td><td>FALSE</td></tr>\n",
       "\t<tr><td>FALSE</td><td>FALSE</td><td>FALSE</td><td>FALSE</td><td>FALSE</td><td>FALSE</td><td>FALSE</td><td>FALSE</td></tr>\n",
       "\t<tr><td>FALSE</td><td>FALSE</td><td>FALSE</td><td>FALSE</td><td>FALSE</td><td>FALSE</td><td>FALSE</td><td>FALSE</td></tr>\n",
       "\t<tr><td>FALSE</td><td>FALSE</td><td>FALSE</td><td>FALSE</td><td>FALSE</td><td>FALSE</td><td>FALSE</td><td>FALSE</td></tr>\n",
       "\t<tr><td>FALSE</td><td>FALSE</td><td>FALSE</td><td>FALSE</td><td>FALSE</td><td>FALSE</td><td>FALSE</td><td>FALSE</td></tr>\n",
       "\t<tr><td>FALSE</td><td>FALSE</td><td>FALSE</td><td>FALSE</td><td>FALSE</td><td>FALSE</td><td>FALSE</td><td>FALSE</td></tr>\n",
       "\t<tr><td>FALSE</td><td>FALSE</td><td>FALSE</td><td>FALSE</td><td>FALSE</td><td>FALSE</td><td>FALSE</td><td>FALSE</td></tr>\n",
       "\t<tr><td>FALSE</td><td>FALSE</td><td>FALSE</td><td>FALSE</td><td>FALSE</td><td>FALSE</td><td>FALSE</td><td>FALSE</td></tr>\n",
       "\t<tr><td>FALSE</td><td>FALSE</td><td>FALSE</td><td>FALSE</td><td>FALSE</td><td>FALSE</td><td>FALSE</td><td>FALSE</td></tr>\n",
       "\t<tr><td>FALSE</td><td>FALSE</td><td>FALSE</td><td>FALSE</td><td>FALSE</td><td>FALSE</td><td>FALSE</td><td>FALSE</td></tr>\n",
       "\t<tr><td>FALSE</td><td>FALSE</td><td>FALSE</td><td>FALSE</td><td>FALSE</td><td>FALSE</td><td>FALSE</td><td>FALSE</td></tr>\n",
       "\t<tr><td>FALSE</td><td>FALSE</td><td>FALSE</td><td>FALSE</td><td>FALSE</td><td>FALSE</td><td>FALSE</td><td>FALSE</td></tr>\n",
       "\t<tr><td>FALSE</td><td>FALSE</td><td>FALSE</td><td>FALSE</td><td>FALSE</td><td>FALSE</td><td>FALSE</td><td>FALSE</td></tr>\n",
       "\t<tr><td>FALSE</td><td>FALSE</td><td>FALSE</td><td>FALSE</td><td>FALSE</td><td>FALSE</td><td>FALSE</td><td>FALSE</td></tr>\n",
       "\t<tr><td>FALSE</td><td>FALSE</td><td>FALSE</td><td>FALSE</td><td>FALSE</td><td>FALSE</td><td>FALSE</td><td>FALSE</td></tr>\n",
       "\t<tr><td>FALSE</td><td>FALSE</td><td>FALSE</td><td>FALSE</td><td>FALSE</td><td>FALSE</td><td>FALSE</td><td>FALSE</td></tr>\n",
       "\t<tr><td>FALSE</td><td>FALSE</td><td>FALSE</td><td>FALSE</td><td>FALSE</td><td>FALSE</td><td>FALSE</td><td>FALSE</td></tr>\n",
       "\t<tr><td>FALSE</td><td>FALSE</td><td>FALSE</td><td>FALSE</td><td>FALSE</td><td>FALSE</td><td>FALSE</td><td>FALSE</td></tr>\n",
       "\t<tr><td>FALSE</td><td>FALSE</td><td>FALSE</td><td>FALSE</td><td>FALSE</td><td>FALSE</td><td>FALSE</td><td>FALSE</td></tr>\n",
       "\t<tr><td>FALSE</td><td>FALSE</td><td>FALSE</td><td>FALSE</td><td>FALSE</td><td>FALSE</td><td>FALSE</td><td>FALSE</td></tr>\n",
       "\t<tr><td>FALSE</td><td>FALSE</td><td>FALSE</td><td>FALSE</td><td>FALSE</td><td>FALSE</td><td>FALSE</td><td>FALSE</td></tr>\n",
       "\t<tr><td>FALSE</td><td>FALSE</td><td>FALSE</td><td>FALSE</td><td>FALSE</td><td>FALSE</td><td>FALSE</td><td>FALSE</td></tr>\n",
       "</tbody>\n",
       "</table>\n"
      ],
      "text/latex": [
       "A matrix: 36 × 8 of type lgl\n",
       "\\begin{tabular}{llllllll}\n",
       " id & sex & birthplace & in\\_out & television & sociability & before & after\\\\\n",
       "\\hline\n",
       "\t FALSE & FALSE & FALSE & FALSE & FALSE & FALSE & FALSE & FALSE\\\\\n",
       "\t FALSE & FALSE & FALSE & FALSE & FALSE & FALSE & FALSE & FALSE\\\\\n",
       "\t FALSE & FALSE & FALSE & FALSE & FALSE & FALSE & FALSE & FALSE\\\\\n",
       "\t FALSE & FALSE & FALSE & FALSE & FALSE & FALSE & FALSE & FALSE\\\\\n",
       "\t FALSE & FALSE & FALSE & FALSE &  TRUE & FALSE & FALSE & FALSE\\\\\n",
       "\t FALSE & FALSE & FALSE & FALSE & FALSE & FALSE & FALSE & FALSE\\\\\n",
       "\t FALSE & FALSE & FALSE & FALSE & FALSE & FALSE & FALSE & FALSE\\\\\n",
       "\t FALSE & FALSE & FALSE & FALSE & FALSE & FALSE & FALSE & FALSE\\\\\n",
       "\t FALSE & FALSE & FALSE & FALSE & FALSE & FALSE & FALSE & FALSE\\\\\n",
       "\t FALSE & FALSE & FALSE & FALSE & FALSE & FALSE &  TRUE & FALSE\\\\\n",
       "\t FALSE & FALSE & FALSE & FALSE & FALSE & FALSE & FALSE & FALSE\\\\\n",
       "\t FALSE & FALSE & FALSE & FALSE & FALSE & FALSE & FALSE & FALSE\\\\\n",
       "\t FALSE & FALSE & FALSE & FALSE & FALSE & FALSE & FALSE & FALSE\\\\\n",
       "\t FALSE & FALSE & FALSE & FALSE & FALSE & FALSE & FALSE & FALSE\\\\\n",
       "\t FALSE & FALSE & FALSE & FALSE & FALSE & FALSE & FALSE & FALSE\\\\\n",
       "\t FALSE & FALSE & FALSE & FALSE & FALSE & FALSE & FALSE & FALSE\\\\\n",
       "\t FALSE & FALSE & FALSE & FALSE & FALSE & FALSE & FALSE & FALSE\\\\\n",
       "\t FALSE & FALSE & FALSE & FALSE & FALSE & FALSE & FALSE & FALSE\\\\\n",
       "\t FALSE & FALSE & FALSE & FALSE & FALSE & FALSE & FALSE & FALSE\\\\\n",
       "\t FALSE & FALSE & FALSE & FALSE & FALSE & FALSE & FALSE & FALSE\\\\\n",
       "\t FALSE & FALSE & FALSE & FALSE & FALSE & FALSE & FALSE & FALSE\\\\\n",
       "\t FALSE & FALSE & FALSE & FALSE & FALSE & FALSE & FALSE & FALSE\\\\\n",
       "\t FALSE & FALSE & FALSE & FALSE & FALSE & FALSE & FALSE & FALSE\\\\\n",
       "\t FALSE & FALSE & FALSE & FALSE & FALSE & FALSE & FALSE & FALSE\\\\\n",
       "\t FALSE & FALSE & FALSE & FALSE & FALSE & FALSE & FALSE & FALSE\\\\\n",
       "\t FALSE & FALSE & FALSE & FALSE & FALSE & FALSE & FALSE & FALSE\\\\\n",
       "\t FALSE & FALSE & FALSE & FALSE & FALSE & FALSE & FALSE & FALSE\\\\\n",
       "\t FALSE & FALSE & FALSE & FALSE & FALSE & FALSE & FALSE & FALSE\\\\\n",
       "\t FALSE & FALSE & FALSE & FALSE & FALSE & FALSE & FALSE & FALSE\\\\\n",
       "\t FALSE & FALSE & FALSE & FALSE & FALSE & FALSE & FALSE & FALSE\\\\\n",
       "\t FALSE & FALSE & FALSE & FALSE & FALSE & FALSE & FALSE & FALSE\\\\\n",
       "\t FALSE & FALSE & FALSE & FALSE & FALSE & FALSE & FALSE & FALSE\\\\\n",
       "\t FALSE & FALSE & FALSE & FALSE & FALSE & FALSE & FALSE & FALSE\\\\\n",
       "\t FALSE & FALSE & FALSE & FALSE & FALSE & FALSE & FALSE & FALSE\\\\\n",
       "\t FALSE & FALSE & FALSE & FALSE & FALSE & FALSE & FALSE & FALSE\\\\\n",
       "\t FALSE & FALSE & FALSE & FALSE & FALSE & FALSE & FALSE & FALSE\\\\\n",
       "\\end{tabular}\n"
      ],
      "text/markdown": [
       "\n",
       "A matrix: 36 × 8 of type lgl\n",
       "\n",
       "| id | sex | birthplace | in_out | television | sociability | before | after |\n",
       "|---|---|---|---|---|---|---|---|\n",
       "| FALSE | FALSE | FALSE | FALSE | FALSE | FALSE | FALSE | FALSE |\n",
       "| FALSE | FALSE | FALSE | FALSE | FALSE | FALSE | FALSE | FALSE |\n",
       "| FALSE | FALSE | FALSE | FALSE | FALSE | FALSE | FALSE | FALSE |\n",
       "| FALSE | FALSE | FALSE | FALSE | FALSE | FALSE | FALSE | FALSE |\n",
       "| FALSE | FALSE | FALSE | FALSE |  TRUE | FALSE | FALSE | FALSE |\n",
       "| FALSE | FALSE | FALSE | FALSE | FALSE | FALSE | FALSE | FALSE |\n",
       "| FALSE | FALSE | FALSE | FALSE | FALSE | FALSE | FALSE | FALSE |\n",
       "| FALSE | FALSE | FALSE | FALSE | FALSE | FALSE | FALSE | FALSE |\n",
       "| FALSE | FALSE | FALSE | FALSE | FALSE | FALSE | FALSE | FALSE |\n",
       "| FALSE | FALSE | FALSE | FALSE | FALSE | FALSE |  TRUE | FALSE |\n",
       "| FALSE | FALSE | FALSE | FALSE | FALSE | FALSE | FALSE | FALSE |\n",
       "| FALSE | FALSE | FALSE | FALSE | FALSE | FALSE | FALSE | FALSE |\n",
       "| FALSE | FALSE | FALSE | FALSE | FALSE | FALSE | FALSE | FALSE |\n",
       "| FALSE | FALSE | FALSE | FALSE | FALSE | FALSE | FALSE | FALSE |\n",
       "| FALSE | FALSE | FALSE | FALSE | FALSE | FALSE | FALSE | FALSE |\n",
       "| FALSE | FALSE | FALSE | FALSE | FALSE | FALSE | FALSE | FALSE |\n",
       "| FALSE | FALSE | FALSE | FALSE | FALSE | FALSE | FALSE | FALSE |\n",
       "| FALSE | FALSE | FALSE | FALSE | FALSE | FALSE | FALSE | FALSE |\n",
       "| FALSE | FALSE | FALSE | FALSE | FALSE | FALSE | FALSE | FALSE |\n",
       "| FALSE | FALSE | FALSE | FALSE | FALSE | FALSE | FALSE | FALSE |\n",
       "| FALSE | FALSE | FALSE | FALSE | FALSE | FALSE | FALSE | FALSE |\n",
       "| FALSE | FALSE | FALSE | FALSE | FALSE | FALSE | FALSE | FALSE |\n",
       "| FALSE | FALSE | FALSE | FALSE | FALSE | FALSE | FALSE | FALSE |\n",
       "| FALSE | FALSE | FALSE | FALSE | FALSE | FALSE | FALSE | FALSE |\n",
       "| FALSE | FALSE | FALSE | FALSE | FALSE | FALSE | FALSE | FALSE |\n",
       "| FALSE | FALSE | FALSE | FALSE | FALSE | FALSE | FALSE | FALSE |\n",
       "| FALSE | FALSE | FALSE | FALSE | FALSE | FALSE | FALSE | FALSE |\n",
       "| FALSE | FALSE | FALSE | FALSE | FALSE | FALSE | FALSE | FALSE |\n",
       "| FALSE | FALSE | FALSE | FALSE | FALSE | FALSE | FALSE | FALSE |\n",
       "| FALSE | FALSE | FALSE | FALSE | FALSE | FALSE | FALSE | FALSE |\n",
       "| FALSE | FALSE | FALSE | FALSE | FALSE | FALSE | FALSE | FALSE |\n",
       "| FALSE | FALSE | FALSE | FALSE | FALSE | FALSE | FALSE | FALSE |\n",
       "| FALSE | FALSE | FALSE | FALSE | FALSE | FALSE | FALSE | FALSE |\n",
       "| FALSE | FALSE | FALSE | FALSE | FALSE | FALSE | FALSE | FALSE |\n",
       "| FALSE | FALSE | FALSE | FALSE | FALSE | FALSE | FALSE | FALSE |\n",
       "| FALSE | FALSE | FALSE | FALSE | FALSE | FALSE | FALSE | FALSE |\n",
       "\n"
      ],
      "text/plain": [
       "      id    sex   birthplace in_out television sociability before after\n",
       " [1,] FALSE FALSE FALSE      FALSE  FALSE      FALSE       FALSE  FALSE\n",
       " [2,] FALSE FALSE FALSE      FALSE  FALSE      FALSE       FALSE  FALSE\n",
       " [3,] FALSE FALSE FALSE      FALSE  FALSE      FALSE       FALSE  FALSE\n",
       " [4,] FALSE FALSE FALSE      FALSE  FALSE      FALSE       FALSE  FALSE\n",
       " [5,] FALSE FALSE FALSE      FALSE   TRUE      FALSE       FALSE  FALSE\n",
       " [6,] FALSE FALSE FALSE      FALSE  FALSE      FALSE       FALSE  FALSE\n",
       " [7,] FALSE FALSE FALSE      FALSE  FALSE      FALSE       FALSE  FALSE\n",
       " [8,] FALSE FALSE FALSE      FALSE  FALSE      FALSE       FALSE  FALSE\n",
       " [9,] FALSE FALSE FALSE      FALSE  FALSE      FALSE       FALSE  FALSE\n",
       "[10,] FALSE FALSE FALSE      FALSE  FALSE      FALSE        TRUE  FALSE\n",
       "[11,] FALSE FALSE FALSE      FALSE  FALSE      FALSE       FALSE  FALSE\n",
       "[12,] FALSE FALSE FALSE      FALSE  FALSE      FALSE       FALSE  FALSE\n",
       "[13,] FALSE FALSE FALSE      FALSE  FALSE      FALSE       FALSE  FALSE\n",
       "[14,] FALSE FALSE FALSE      FALSE  FALSE      FALSE       FALSE  FALSE\n",
       "[15,] FALSE FALSE FALSE      FALSE  FALSE      FALSE       FALSE  FALSE\n",
       "[16,] FALSE FALSE FALSE      FALSE  FALSE      FALSE       FALSE  FALSE\n",
       "[17,] FALSE FALSE FALSE      FALSE  FALSE      FALSE       FALSE  FALSE\n",
       "[18,] FALSE FALSE FALSE      FALSE  FALSE      FALSE       FALSE  FALSE\n",
       "[19,] FALSE FALSE FALSE      FALSE  FALSE      FALSE       FALSE  FALSE\n",
       "[20,] FALSE FALSE FALSE      FALSE  FALSE      FALSE       FALSE  FALSE\n",
       "[21,] FALSE FALSE FALSE      FALSE  FALSE      FALSE       FALSE  FALSE\n",
       "[22,] FALSE FALSE FALSE      FALSE  FALSE      FALSE       FALSE  FALSE\n",
       "[23,] FALSE FALSE FALSE      FALSE  FALSE      FALSE       FALSE  FALSE\n",
       "[24,] FALSE FALSE FALSE      FALSE  FALSE      FALSE       FALSE  FALSE\n",
       "[25,] FALSE FALSE FALSE      FALSE  FALSE      FALSE       FALSE  FALSE\n",
       "[26,] FALSE FALSE FALSE      FALSE  FALSE      FALSE       FALSE  FALSE\n",
       "[27,] FALSE FALSE FALSE      FALSE  FALSE      FALSE       FALSE  FALSE\n",
       "[28,] FALSE FALSE FALSE      FALSE  FALSE      FALSE       FALSE  FALSE\n",
       "[29,] FALSE FALSE FALSE      FALSE  FALSE      FALSE       FALSE  FALSE\n",
       "[30,] FALSE FALSE FALSE      FALSE  FALSE      FALSE       FALSE  FALSE\n",
       "[31,] FALSE FALSE FALSE      FALSE  FALSE      FALSE       FALSE  FALSE\n",
       "[32,] FALSE FALSE FALSE      FALSE  FALSE      FALSE       FALSE  FALSE\n",
       "[33,] FALSE FALSE FALSE      FALSE  FALSE      FALSE       FALSE  FALSE\n",
       "[34,] FALSE FALSE FALSE      FALSE  FALSE      FALSE       FALSE  FALSE\n",
       "[35,] FALSE FALSE FALSE      FALSE  FALSE      FALSE       FALSE  FALSE\n",
       "[36,] FALSE FALSE FALSE      FALSE  FALSE      FALSE       FALSE  FALSE"
      ]
     },
     "metadata": {},
     "output_type": "display_data"
    }
   ],
   "source": [
    "is.na(df)"
   ]
  },
  {
   "cell_type": "code",
   "execution_count": 2,
   "id": "e64b2629",
   "metadata": {},
   "outputs": [
    {
     "data": {
      "text/plain": [
       "       id            sex             birthplace           in_out         \n",
       " Min.   : 1.00   Length:36          Length:36          Length:36         \n",
       " 1st Qu.: 9.75   Class :character   Class :character   Class :character  \n",
       " Median :18.50   Mode  :character   Mode  :character   Mode  :character  \n",
       " Mean   :18.50                                                           \n",
       " 3rd Qu.:27.25                                                           \n",
       " Max.   :36.00                                                           \n",
       "                                                                         \n",
       "   television     sociability        before         after     \n",
       " Min.   :1.000   Min.   :2.000   Min.   :45.0   Min.   :49.0  \n",
       " 1st Qu.:2.000   1st Qu.:3.000   1st Qu.:54.5   1st Qu.:63.5  \n",
       " Median :4.000   Median :5.000   Median :60.0   Median :67.5  \n",
       " Mean   :4.029   Mean   :5.333   Mean   :60.4   Mean   :67.0  \n",
       " 3rd Qu.:5.500   3rd Qu.:7.000   3rd Qu.:65.0   3rd Qu.:71.0  \n",
       " Max.   :8.000   Max.   :9.000   Max.   :79.0   Max.   :81.0  \n",
       " NA's   :1                       NA's   :1                    "
      ]
     },
     "metadata": {},
     "output_type": "display_data"
    }
   ],
   "source": [
    "summary(df)"
   ]
  },
  {
   "cell_type": "code",
   "execution_count": 11,
   "id": "1ea2b2df",
   "metadata": {},
   "outputs": [
    {
     "data": {
      "text/html": [
       "<style>\n",
       ".list-inline {list-style: none; margin:0; padding: 0}\n",
       ".list-inline>li {display: inline-block}\n",
       ".list-inline>li:not(:last-child)::after {content: \"\\00b7\"; padding: 0 .5ex}\n",
       "</style>\n",
       "<ol class=list-inline><li>a</li><li>b</li><li>c</li><li>b</li><li>c</li><li>a</li><li>a</li><li>c</li><li>b</li><li>a</li><li>a</li><li>a</li><li>b</li><li>b</li><li>a</li><li>b</li><li>b</li><li>c</li><li>c</li><li>c</li><li></li><li>a</li><li>c</li><li>a</li><li>a</li><li>c</li><li>b</li><li>c</li><li>c</li><li>b</li><li>b</li><li>b</li><li>c</li><li>c</li><li>b</li><li>a</li></ol>\n",
       "\n",
       "<details>\n",
       "\t<summary style=display:list-item;cursor:pointer>\n",
       "\t\t<strong>Levels</strong>:\n",
       "\t</summary>\n",
       "\t<style>\n",
       "\t.list-inline {list-style: none; margin:0; padding: 0}\n",
       "\t.list-inline>li {display: inline-block}\n",
       "\t.list-inline>li:not(:last-child)::after {content: \"\\00b7\"; padding: 0 .5ex}\n",
       "\t</style>\n",
       "\t<ol class=list-inline><li>''</li><li>'a'</li><li>'b'</li><li>'c'</li></ol>\n",
       "</details>"
      ],
      "text/latex": [
       "\\begin{enumerate*}\n",
       "\\item a\n",
       "\\item b\n",
       "\\item c\n",
       "\\item b\n",
       "\\item c\n",
       "\\item a\n",
       "\\item a\n",
       "\\item c\n",
       "\\item b\n",
       "\\item a\n",
       "\\item a\n",
       "\\item a\n",
       "\\item b\n",
       "\\item b\n",
       "\\item a\n",
       "\\item b\n",
       "\\item b\n",
       "\\item c\n",
       "\\item c\n",
       "\\item c\n",
       "\\item \n",
       "\\item a\n",
       "\\item c\n",
       "\\item a\n",
       "\\item a\n",
       "\\item c\n",
       "\\item b\n",
       "\\item c\n",
       "\\item c\n",
       "\\item b\n",
       "\\item b\n",
       "\\item b\n",
       "\\item c\n",
       "\\item c\n",
       "\\item b\n",
       "\\item a\n",
       "\\end{enumerate*}\n",
       "\n",
       "\\emph{Levels}: \\begin{enumerate*}\n",
       "\\item ''\n",
       "\\item 'a'\n",
       "\\item 'b'\n",
       "\\item 'c'\n",
       "\\end{enumerate*}\n"
      ],
      "text/markdown": [
       "1. a\n",
       "2. b\n",
       "3. c\n",
       "4. b\n",
       "5. c\n",
       "6. a\n",
       "7. a\n",
       "8. c\n",
       "9. b\n",
       "10. a\n",
       "11. a\n",
       "12. a\n",
       "13. b\n",
       "14. b\n",
       "15. a\n",
       "16. b\n",
       "17. b\n",
       "18. c\n",
       "19. c\n",
       "20. c\n",
       "21. \n",
       "22. a\n",
       "23. c\n",
       "24. a\n",
       "25. a\n",
       "26. c\n",
       "27. b\n",
       "28. c\n",
       "29. c\n",
       "30. b\n",
       "31. b\n",
       "32. b\n",
       "33. c\n",
       "34. c\n",
       "35. b\n",
       "36. a\n",
       "\n",
       "\n",
       "\n",
       "**Levels**: 1. ''\n",
       "2. 'a'\n",
       "3. 'b'\n",
       "4. 'c'\n",
       "\n",
       "\n"
      ],
      "text/plain": [
       " [1] a b c b c a a c b a a a b b a b b c c c   a c a a c b c c b b b c c b a\n",
       "Levels:  a b c"
      ]
     },
     "metadata": {},
     "output_type": "display_data"
    },
    {
     "data": {
      "text/plain": [
       "\n",
       "    a  b  c \n",
       " 1 11 12 12 "
      ]
     },
     "metadata": {},
     "output_type": "display_data"
    }
   ],
   "source": [
    "factor(df$birthplace)\n",
    "table(df$birthplace)"
   ]
  },
  {
   "cell_type": "code",
   "execution_count": 14,
   "id": "202d122f",
   "metadata": {},
   "outputs": [
    {
     "data": {
      "text/html": [
       "&lt;NA&gt;"
      ],
      "text/latex": [
       "<NA>"
      ],
      "text/markdown": [
       "&lt;NA&gt;"
      ],
      "text/plain": [
       "[1] NA"
      ]
     },
     "metadata": {},
     "output_type": "display_data"
    },
    {
     "data": {
      "text/html": [
       "4.02857142857143"
      ],
      "text/latex": [
       "4.02857142857143"
      ],
      "text/markdown": [
       "4.02857142857143"
      ],
      "text/plain": [
       "[1] 4.028571"
      ]
     },
     "metadata": {},
     "output_type": "display_data"
    }
   ],
   "source": [
    "mean(df$television)\n",
    "mean(df$television, na.rm=TRUE)"
   ]
  },
  {
   "cell_type": "code",
   "execution_count": 17,
   "id": "dd183171",
   "metadata": {},
   "outputs": [
    {
     "data": {
      "text/html": [
       "<table class=\"dataframe\">\n",
       "<caption>A data.frame: 34 × 8</caption>\n",
       "<thead>\n",
       "\t<tr><th></th><th scope=col>id</th><th scope=col>sex</th><th scope=col>birthplace</th><th scope=col>in_out</th><th scope=col>television</th><th scope=col>sociability</th><th scope=col>before</th><th scope=col>after</th></tr>\n",
       "\t<tr><th></th><th scope=col>&lt;int&gt;</th><th scope=col>&lt;chr&gt;</th><th scope=col>&lt;chr&gt;</th><th scope=col>&lt;chr&gt;</th><th scope=col>&lt;int&gt;</th><th scope=col>&lt;int&gt;</th><th scope=col>&lt;int&gt;</th><th scope=col>&lt;int&gt;</th></tr>\n",
       "</thead>\n",
       "<tbody>\n",
       "\t<tr><th scope=row>1</th><td> 1</td><td>f</td><td>a</td><td>i</td><td>7</td><td>5</td><td>49</td><td>71</td></tr>\n",
       "\t<tr><th scope=row>2</th><td> 2</td><td>f</td><td>b</td><td>i</td><td>1</td><td>7</td><td>47</td><td>68</td></tr>\n",
       "\t<tr><th scope=row>3</th><td> 3</td><td>f</td><td>c</td><td>o</td><td>1</td><td>8</td><td>57</td><td>81</td></tr>\n",
       "\t<tr><th scope=row>4</th><td> 4</td><td>f</td><td>b</td><td>o</td><td>3</td><td>8</td><td>52</td><td>71</td></tr>\n",
       "\t<tr><th scope=row>6</th><td> 6</td><td>m</td><td>a</td><td>i</td><td>6</td><td>5</td><td>63</td><td>66</td></tr>\n",
       "\t<tr><th scope=row>7</th><td> 7</td><td>f</td><td>a</td><td>o</td><td>4</td><td>6</td><td>56</td><td>70</td></tr>\n",
       "\t<tr><th scope=row>8</th><td> 8</td><td>m</td><td>c</td><td>o</td><td>5</td><td>3</td><td>65</td><td>64</td></tr>\n",
       "\t<tr><th scope=row>9</th><td> 9</td><td>m</td><td>b</td><td>o</td><td>3</td><td>5</td><td>75</td><td>74</td></tr>\n",
       "\t<tr><th scope=row>11</th><td>11</td><td>f</td><td>a</td><td>i</td><td>8</td><td>3</td><td>55</td><td>66</td></tr>\n",
       "\t<tr><th scope=row>12</th><td>12</td><td>f</td><td>a</td><td>i</td><td>6</td><td>5</td><td>61</td><td>71</td></tr>\n",
       "\t<tr><th scope=row>13</th><td>13</td><td>m</td><td>b</td><td>i</td><td>2</td><td>3</td><td>70</td><td>68</td></tr>\n",
       "\t<tr><th scope=row>14</th><td>14</td><td>m</td><td>b</td><td>i</td><td>5</td><td>2</td><td>69</td><td>65</td></tr>\n",
       "\t<tr><th scope=row>15</th><td>15</td><td>m</td><td>a</td><td>i</td><td>3</td><td>5</td><td>65</td><td>71</td></tr>\n",
       "\t<tr><th scope=row>16</th><td>16</td><td>f</td><td>b</td><td>i</td><td>4</td><td>3</td><td>60</td><td>59</td></tr>\n",
       "\t<tr><th scope=row>17</th><td>17</td><td>m</td><td>b</td><td>i</td><td>5</td><td>3</td><td>70</td><td>62</td></tr>\n",
       "\t<tr><th scope=row>18</th><td>18</td><td>m</td><td>c</td><td>o</td><td>2</td><td>6</td><td>63</td><td>61</td></tr>\n",
       "\t<tr><th scope=row>19</th><td>19</td><td>m</td><td>c</td><td>o</td><td>1</td><td>7</td><td>68</td><td>66</td></tr>\n",
       "\t<tr><th scope=row>20</th><td>20</td><td>f</td><td>c</td><td>o</td><td>4</td><td>3</td><td>54</td><td>53</td></tr>\n",
       "\t<tr><th scope=row>21</th><td>21</td><td>f</td><td> </td><td>o</td><td>2</td><td>8</td><td>60</td><td>78</td></tr>\n",
       "\t<tr><th scope=row>22</th><td>22</td><td>m</td><td>a</td><td>i</td><td>7</td><td>3</td><td>69</td><td>68</td></tr>\n",
       "\t<tr><th scope=row>23</th><td>23</td><td>m</td><td>c</td><td>o</td><td>2</td><td>8</td><td>64</td><td>65</td></tr>\n",
       "\t<tr><th scope=row>24</th><td>24</td><td>f</td><td>a</td><td>o</td><td>7</td><td>4</td><td>52</td><td>67</td></tr>\n",
       "\t<tr><th scope=row>25</th><td>25</td><td>m</td><td>a</td><td>o</td><td>3</td><td>6</td><td>58</td><td>69</td></tr>\n",
       "\t<tr><th scope=row>26</th><td>26</td><td>m</td><td>c</td><td>o</td><td>1</td><td>7</td><td>65</td><td>71</td></tr>\n",
       "\t<tr><th scope=row>27</th><td>27</td><td>m</td><td>b</td><td>o</td><td>1</td><td>8</td><td>64</td><td>79</td></tr>\n",
       "\t<tr><th scope=row>28</th><td>28</td><td>f</td><td>c</td><td>o</td><td>4</td><td>4</td><td>59</td><td>64</td></tr>\n",
       "\t<tr><th scope=row>29</th><td>29</td><td>f</td><td>c</td><td>i</td><td>3</td><td>6</td><td>45</td><td>51</td></tr>\n",
       "\t<tr><th scope=row>30</th><td>30</td><td>f</td><td>b</td><td>i</td><td>5</td><td>6</td><td>50</td><td>49</td></tr>\n",
       "\t<tr><th scope=row>31</th><td>31</td><td>m</td><td>b</td><td>o</td><td>1</td><td>9</td><td>72</td><td>71</td></tr>\n",
       "\t<tr><th scope=row>32</th><td>32</td><td>f</td><td>b</td><td>i</td><td>7</td><td>3</td><td>55</td><td>60</td></tr>\n",
       "\t<tr><th scope=row>33</th><td>33</td><td>m</td><td>c</td><td>i</td><td>7</td><td>4</td><td>79</td><td>77</td></tr>\n",
       "\t<tr><th scope=row>34</th><td>34</td><td>f</td><td>c</td><td>o</td><td>4</td><td>7</td><td>60</td><td>58</td></tr>\n",
       "\t<tr><th scope=row>35</th><td>35</td><td>f</td><td>b</td><td>i</td><td>8</td><td>3</td><td>53</td><td>67</td></tr>\n",
       "\t<tr><th scope=row>36</th><td>36</td><td>m</td><td>a</td><td>o</td><td>5</td><td>7</td><td>57</td><td>72</td></tr>\n",
       "</tbody>\n",
       "</table>\n"
      ],
      "text/latex": [
       "A data.frame: 34 × 8\n",
       "\\begin{tabular}{r|llllllll}\n",
       "  & id & sex & birthplace & in\\_out & television & sociability & before & after\\\\\n",
       "  & <int> & <chr> & <chr> & <chr> & <int> & <int> & <int> & <int>\\\\\n",
       "\\hline\n",
       "\t1 &  1 & f & a & i & 7 & 5 & 49 & 71\\\\\n",
       "\t2 &  2 & f & b & i & 1 & 7 & 47 & 68\\\\\n",
       "\t3 &  3 & f & c & o & 1 & 8 & 57 & 81\\\\\n",
       "\t4 &  4 & f & b & o & 3 & 8 & 52 & 71\\\\\n",
       "\t6 &  6 & m & a & i & 6 & 5 & 63 & 66\\\\\n",
       "\t7 &  7 & f & a & o & 4 & 6 & 56 & 70\\\\\n",
       "\t8 &  8 & m & c & o & 5 & 3 & 65 & 64\\\\\n",
       "\t9 &  9 & m & b & o & 3 & 5 & 75 & 74\\\\\n",
       "\t11 & 11 & f & a & i & 8 & 3 & 55 & 66\\\\\n",
       "\t12 & 12 & f & a & i & 6 & 5 & 61 & 71\\\\\n",
       "\t13 & 13 & m & b & i & 2 & 3 & 70 & 68\\\\\n",
       "\t14 & 14 & m & b & i & 5 & 2 & 69 & 65\\\\\n",
       "\t15 & 15 & m & a & i & 3 & 5 & 65 & 71\\\\\n",
       "\t16 & 16 & f & b & i & 4 & 3 & 60 & 59\\\\\n",
       "\t17 & 17 & m & b & i & 5 & 3 & 70 & 62\\\\\n",
       "\t18 & 18 & m & c & o & 2 & 6 & 63 & 61\\\\\n",
       "\t19 & 19 & m & c & o & 1 & 7 & 68 & 66\\\\\n",
       "\t20 & 20 & f & c & o & 4 & 3 & 54 & 53\\\\\n",
       "\t21 & 21 & f &   & o & 2 & 8 & 60 & 78\\\\\n",
       "\t22 & 22 & m & a & i & 7 & 3 & 69 & 68\\\\\n",
       "\t23 & 23 & m & c & o & 2 & 8 & 64 & 65\\\\\n",
       "\t24 & 24 & f & a & o & 7 & 4 & 52 & 67\\\\\n",
       "\t25 & 25 & m & a & o & 3 & 6 & 58 & 69\\\\\n",
       "\t26 & 26 & m & c & o & 1 & 7 & 65 & 71\\\\\n",
       "\t27 & 27 & m & b & o & 1 & 8 & 64 & 79\\\\\n",
       "\t28 & 28 & f & c & o & 4 & 4 & 59 & 64\\\\\n",
       "\t29 & 29 & f & c & i & 3 & 6 & 45 & 51\\\\\n",
       "\t30 & 30 & f & b & i & 5 & 6 & 50 & 49\\\\\n",
       "\t31 & 31 & m & b & o & 1 & 9 & 72 & 71\\\\\n",
       "\t32 & 32 & f & b & i & 7 & 3 & 55 & 60\\\\\n",
       "\t33 & 33 & m & c & i & 7 & 4 & 79 & 77\\\\\n",
       "\t34 & 34 & f & c & o & 4 & 7 & 60 & 58\\\\\n",
       "\t35 & 35 & f & b & i & 8 & 3 & 53 & 67\\\\\n",
       "\t36 & 36 & m & a & o & 5 & 7 & 57 & 72\\\\\n",
       "\\end{tabular}\n"
      ],
      "text/markdown": [
       "\n",
       "A data.frame: 34 × 8\n",
       "\n",
       "| <!--/--> | id &lt;int&gt; | sex &lt;chr&gt; | birthplace &lt;chr&gt; | in_out &lt;chr&gt; | television &lt;int&gt; | sociability &lt;int&gt; | before &lt;int&gt; | after &lt;int&gt; |\n",
       "|---|---|---|---|---|---|---|---|---|\n",
       "| 1 |  1 | f | a | i | 7 | 5 | 49 | 71 |\n",
       "| 2 |  2 | f | b | i | 1 | 7 | 47 | 68 |\n",
       "| 3 |  3 | f | c | o | 1 | 8 | 57 | 81 |\n",
       "| 4 |  4 | f | b | o | 3 | 8 | 52 | 71 |\n",
       "| 6 |  6 | m | a | i | 6 | 5 | 63 | 66 |\n",
       "| 7 |  7 | f | a | o | 4 | 6 | 56 | 70 |\n",
       "| 8 |  8 | m | c | o | 5 | 3 | 65 | 64 |\n",
       "| 9 |  9 | m | b | o | 3 | 5 | 75 | 74 |\n",
       "| 11 | 11 | f | a | i | 8 | 3 | 55 | 66 |\n",
       "| 12 | 12 | f | a | i | 6 | 5 | 61 | 71 |\n",
       "| 13 | 13 | m | b | i | 2 | 3 | 70 | 68 |\n",
       "| 14 | 14 | m | b | i | 5 | 2 | 69 | 65 |\n",
       "| 15 | 15 | m | a | i | 3 | 5 | 65 | 71 |\n",
       "| 16 | 16 | f | b | i | 4 | 3 | 60 | 59 |\n",
       "| 17 | 17 | m | b | i | 5 | 3 | 70 | 62 |\n",
       "| 18 | 18 | m | c | o | 2 | 6 | 63 | 61 |\n",
       "| 19 | 19 | m | c | o | 1 | 7 | 68 | 66 |\n",
       "| 20 | 20 | f | c | o | 4 | 3 | 54 | 53 |\n",
       "| 21 | 21 | f | <!----> | o | 2 | 8 | 60 | 78 |\n",
       "| 22 | 22 | m | a | i | 7 | 3 | 69 | 68 |\n",
       "| 23 | 23 | m | c | o | 2 | 8 | 64 | 65 |\n",
       "| 24 | 24 | f | a | o | 7 | 4 | 52 | 67 |\n",
       "| 25 | 25 | m | a | o | 3 | 6 | 58 | 69 |\n",
       "| 26 | 26 | m | c | o | 1 | 7 | 65 | 71 |\n",
       "| 27 | 27 | m | b | o | 1 | 8 | 64 | 79 |\n",
       "| 28 | 28 | f | c | o | 4 | 4 | 59 | 64 |\n",
       "| 29 | 29 | f | c | i | 3 | 6 | 45 | 51 |\n",
       "| 30 | 30 | f | b | i | 5 | 6 | 50 | 49 |\n",
       "| 31 | 31 | m | b | o | 1 | 9 | 72 | 71 |\n",
       "| 32 | 32 | f | b | i | 7 | 3 | 55 | 60 |\n",
       "| 33 | 33 | m | c | i | 7 | 4 | 79 | 77 |\n",
       "| 34 | 34 | f | c | o | 4 | 7 | 60 | 58 |\n",
       "| 35 | 35 | f | b | i | 8 | 3 | 53 | 67 |\n",
       "| 36 | 36 | m | a | o | 5 | 7 | 57 | 72 |\n",
       "\n"
      ],
      "text/plain": [
       "   id sex birthplace in_out television sociability before after\n",
       "1   1 f   a          i      7          5           49     71   \n",
       "2   2 f   b          i      1          7           47     68   \n",
       "3   3 f   c          o      1          8           57     81   \n",
       "4   4 f   b          o      3          8           52     71   \n",
       "6   6 m   a          i      6          5           63     66   \n",
       "7   7 f   a          o      4          6           56     70   \n",
       "8   8 m   c          o      5          3           65     64   \n",
       "9   9 m   b          o      3          5           75     74   \n",
       "11 11 f   a          i      8          3           55     66   \n",
       "12 12 f   a          i      6          5           61     71   \n",
       "13 13 m   b          i      2          3           70     68   \n",
       "14 14 m   b          i      5          2           69     65   \n",
       "15 15 m   a          i      3          5           65     71   \n",
       "16 16 f   b          i      4          3           60     59   \n",
       "17 17 m   b          i      5          3           70     62   \n",
       "18 18 m   c          o      2          6           63     61   \n",
       "19 19 m   c          o      1          7           68     66   \n",
       "20 20 f   c          o      4          3           54     53   \n",
       "21 21 f              o      2          8           60     78   \n",
       "22 22 m   a          i      7          3           69     68   \n",
       "23 23 m   c          o      2          8           64     65   \n",
       "24 24 f   a          o      7          4           52     67   \n",
       "25 25 m   a          o      3          6           58     69   \n",
       "26 26 m   c          o      1          7           65     71   \n",
       "27 27 m   b          o      1          8           64     79   \n",
       "28 28 f   c          o      4          4           59     64   \n",
       "29 29 f   c          i      3          6           45     51   \n",
       "30 30 f   b          i      5          6           50     49   \n",
       "31 31 m   b          o      1          9           72     71   \n",
       "32 32 f   b          i      7          3           55     60   \n",
       "33 33 m   c          i      7          4           79     77   \n",
       "34 34 f   c          o      4          7           60     58   \n",
       "35 35 f   b          i      8          3           53     67   \n",
       "36 36 m   a          o      5          7           57     72   "
      ]
     },
     "metadata": {},
     "output_type": "display_data"
    }
   ],
   "source": [
    "df_omit = na.omit(df)\n",
    "df_omit"
   ]
  },
  {
   "cell_type": "code",
   "execution_count": 18,
   "id": "4ae3d65e",
   "metadata": {},
   "outputs": [
    {
     "data": {
      "text/html": [
       "4.02857142857143"
      ],
      "text/latex": [
       "4.02857142857143"
      ],
      "text/markdown": [
       "4.02857142857143"
      ],
      "text/plain": [
       "[1] 4.028571"
      ]
     },
     "metadata": {},
     "output_type": "display_data"
    },
    {
     "data": {
      "text/html": [
       "4.02941176470588"
      ],
      "text/latex": [
       "4.02941176470588"
      ],
      "text/markdown": [
       "4.02941176470588"
      ],
      "text/plain": [
       "[1] 4.029412"
      ]
     },
     "metadata": {},
     "output_type": "display_data"
    }
   ],
   "source": [
    "mean(df$television, na.rm=TRUE)\n",
    "mean(df_omit$television)"
   ]
  },
  {
   "cell_type": "code",
   "execution_count": 21,
   "id": "25ac84d3",
   "metadata": {},
   "outputs": [
    {
     "data": {
      "text/plain": [
       "\n",
       "1 2 3 4 5 6 7 8 \n",
       "6 4 5 6 5 2 5 2 "
      ]
     },
     "metadata": {},
     "output_type": "display_data"
    },
    {
     "data": {
      "text/plain": [
       "\n",
       "1 2 3 4 5 6 7 8 \n",
       "6 4 5 5 5 2 5 2 "
      ]
     },
     "metadata": {},
     "output_type": "display_data"
    }
   ],
   "source": [
    "table(df$television)\n",
    "table(df_omit$television)"
   ]
  },
  {
   "cell_type": "code",
   "execution_count": 23,
   "id": "09f35130",
   "metadata": {},
   "outputs": [
    {
     "data": {
      "text/html": [
       "<table class=\"dataframe\">\n",
       "<caption>A data.frame: 36 × 8</caption>\n",
       "<thead>\n",
       "\t<tr><th scope=col>id</th><th scope=col>sex</th><th scope=col>birthplace</th><th scope=col>in_out</th><th scope=col>television</th><th scope=col>sociability</th><th scope=col>before</th><th scope=col>after</th></tr>\n",
       "\t<tr><th scope=col>&lt;int&gt;</th><th scope=col>&lt;chr&gt;</th><th scope=col>&lt;chr&gt;</th><th scope=col>&lt;chr&gt;</th><th scope=col>&lt;int&gt;</th><th scope=col>&lt;int&gt;</th><th scope=col>&lt;int&gt;</th><th scope=col>&lt;int&gt;</th></tr>\n",
       "</thead>\n",
       "<tbody>\n",
       "\t<tr><td> 1</td><td>f</td><td>a </td><td>i</td><td> 7</td><td>5</td><td>49</td><td>71</td></tr>\n",
       "\t<tr><td> 2</td><td>f</td><td>b </td><td>i</td><td> 1</td><td>7</td><td>47</td><td>68</td></tr>\n",
       "\t<tr><td> 3</td><td>f</td><td>c </td><td>o</td><td> 1</td><td>8</td><td>57</td><td>81</td></tr>\n",
       "\t<tr><td> 4</td><td>f</td><td>b </td><td>o</td><td> 3</td><td>8</td><td>52</td><td>71</td></tr>\n",
       "\t<tr><td> 5</td><td>f</td><td>c </td><td>o</td><td>NA</td><td>9</td><td>53</td><td>61</td></tr>\n",
       "\t<tr><td> 6</td><td>m</td><td>a </td><td>i</td><td> 6</td><td>5</td><td>63</td><td>66</td></tr>\n",
       "\t<tr><td> 7</td><td>f</td><td>a </td><td>o</td><td> 4</td><td>6</td><td>56</td><td>70</td></tr>\n",
       "\t<tr><td> 8</td><td>m</td><td>c </td><td>o</td><td> 5</td><td>3</td><td>65</td><td>64</td></tr>\n",
       "\t<tr><td> 9</td><td>m</td><td>b </td><td>o</td><td> 3</td><td>5</td><td>75</td><td>74</td></tr>\n",
       "\t<tr><td>10</td><td>m</td><td>a </td><td>i</td><td> 4</td><td>3</td><td>NA</td><td>78</td></tr>\n",
       "\t<tr><td>11</td><td>f</td><td>a </td><td>i</td><td> 8</td><td>3</td><td>55</td><td>66</td></tr>\n",
       "\t<tr><td>12</td><td>f</td><td>a </td><td>i</td><td> 6</td><td>5</td><td>61</td><td>71</td></tr>\n",
       "\t<tr><td>13</td><td>m</td><td>b </td><td>i</td><td> 2</td><td>3</td><td>70</td><td>68</td></tr>\n",
       "\t<tr><td>14</td><td>m</td><td>b </td><td>i</td><td> 5</td><td>2</td><td>69</td><td>65</td></tr>\n",
       "\t<tr><td>15</td><td>m</td><td>a </td><td>i</td><td> 3</td><td>5</td><td>65</td><td>71</td></tr>\n",
       "\t<tr><td>16</td><td>f</td><td>b </td><td>i</td><td> 4</td><td>3</td><td>60</td><td>59</td></tr>\n",
       "\t<tr><td>17</td><td>m</td><td>b </td><td>i</td><td> 5</td><td>3</td><td>70</td><td>62</td></tr>\n",
       "\t<tr><td>18</td><td>m</td><td>c </td><td>o</td><td> 2</td><td>6</td><td>63</td><td>61</td></tr>\n",
       "\t<tr><td>19</td><td>m</td><td>c </td><td>o</td><td> 1</td><td>7</td><td>68</td><td>66</td></tr>\n",
       "\t<tr><td>20</td><td>f</td><td>c </td><td>o</td><td> 4</td><td>3</td><td>54</td><td>53</td></tr>\n",
       "\t<tr><td>21</td><td>f</td><td>NA</td><td>o</td><td> 2</td><td>8</td><td>60</td><td>78</td></tr>\n",
       "\t<tr><td>22</td><td>m</td><td>a </td><td>i</td><td> 7</td><td>3</td><td>69</td><td>68</td></tr>\n",
       "\t<tr><td>23</td><td>m</td><td>c </td><td>o</td><td> 2</td><td>8</td><td>64</td><td>65</td></tr>\n",
       "\t<tr><td>24</td><td>f</td><td>a </td><td>o</td><td> 7</td><td>4</td><td>52</td><td>67</td></tr>\n",
       "\t<tr><td>25</td><td>m</td><td>a </td><td>o</td><td> 3</td><td>6</td><td>58</td><td>69</td></tr>\n",
       "\t<tr><td>26</td><td>m</td><td>c </td><td>o</td><td> 1</td><td>7</td><td>65</td><td>71</td></tr>\n",
       "\t<tr><td>27</td><td>m</td><td>b </td><td>o</td><td> 1</td><td>8</td><td>64</td><td>79</td></tr>\n",
       "\t<tr><td>28</td><td>f</td><td>c </td><td>o</td><td> 4</td><td>4</td><td>59</td><td>64</td></tr>\n",
       "\t<tr><td>29</td><td>f</td><td>c </td><td>i</td><td> 3</td><td>6</td><td>45</td><td>51</td></tr>\n",
       "\t<tr><td>30</td><td>f</td><td>b </td><td>i</td><td> 5</td><td>6</td><td>50</td><td>49</td></tr>\n",
       "\t<tr><td>31</td><td>m</td><td>b </td><td>o</td><td> 1</td><td>9</td><td>72</td><td>71</td></tr>\n",
       "\t<tr><td>32</td><td>f</td><td>b </td><td>i</td><td> 7</td><td>3</td><td>55</td><td>60</td></tr>\n",
       "\t<tr><td>33</td><td>m</td><td>c </td><td>i</td><td> 7</td><td>4</td><td>79</td><td>77</td></tr>\n",
       "\t<tr><td>34</td><td>f</td><td>c </td><td>o</td><td> 4</td><td>7</td><td>60</td><td>58</td></tr>\n",
       "\t<tr><td>35</td><td>f</td><td>b </td><td>i</td><td> 8</td><td>3</td><td>53</td><td>67</td></tr>\n",
       "\t<tr><td>36</td><td>m</td><td>a </td><td>o</td><td> 5</td><td>7</td><td>57</td><td>72</td></tr>\n",
       "</tbody>\n",
       "</table>\n"
      ],
      "text/latex": [
       "A data.frame: 36 × 8\n",
       "\\begin{tabular}{llllllll}\n",
       " id & sex & birthplace & in\\_out & television & sociability & before & after\\\\\n",
       " <int> & <chr> & <chr> & <chr> & <int> & <int> & <int> & <int>\\\\\n",
       "\\hline\n",
       "\t  1 & f & a  & i &  7 & 5 & 49 & 71\\\\\n",
       "\t  2 & f & b  & i &  1 & 7 & 47 & 68\\\\\n",
       "\t  3 & f & c  & o &  1 & 8 & 57 & 81\\\\\n",
       "\t  4 & f & b  & o &  3 & 8 & 52 & 71\\\\\n",
       "\t  5 & f & c  & o & NA & 9 & 53 & 61\\\\\n",
       "\t  6 & m & a  & i &  6 & 5 & 63 & 66\\\\\n",
       "\t  7 & f & a  & o &  4 & 6 & 56 & 70\\\\\n",
       "\t  8 & m & c  & o &  5 & 3 & 65 & 64\\\\\n",
       "\t  9 & m & b  & o &  3 & 5 & 75 & 74\\\\\n",
       "\t 10 & m & a  & i &  4 & 3 & NA & 78\\\\\n",
       "\t 11 & f & a  & i &  8 & 3 & 55 & 66\\\\\n",
       "\t 12 & f & a  & i &  6 & 5 & 61 & 71\\\\\n",
       "\t 13 & m & b  & i &  2 & 3 & 70 & 68\\\\\n",
       "\t 14 & m & b  & i &  5 & 2 & 69 & 65\\\\\n",
       "\t 15 & m & a  & i &  3 & 5 & 65 & 71\\\\\n",
       "\t 16 & f & b  & i &  4 & 3 & 60 & 59\\\\\n",
       "\t 17 & m & b  & i &  5 & 3 & 70 & 62\\\\\n",
       "\t 18 & m & c  & o &  2 & 6 & 63 & 61\\\\\n",
       "\t 19 & m & c  & o &  1 & 7 & 68 & 66\\\\\n",
       "\t 20 & f & c  & o &  4 & 3 & 54 & 53\\\\\n",
       "\t 21 & f & NA & o &  2 & 8 & 60 & 78\\\\\n",
       "\t 22 & m & a  & i &  7 & 3 & 69 & 68\\\\\n",
       "\t 23 & m & c  & o &  2 & 8 & 64 & 65\\\\\n",
       "\t 24 & f & a  & o &  7 & 4 & 52 & 67\\\\\n",
       "\t 25 & m & a  & o &  3 & 6 & 58 & 69\\\\\n",
       "\t 26 & m & c  & o &  1 & 7 & 65 & 71\\\\\n",
       "\t 27 & m & b  & o &  1 & 8 & 64 & 79\\\\\n",
       "\t 28 & f & c  & o &  4 & 4 & 59 & 64\\\\\n",
       "\t 29 & f & c  & i &  3 & 6 & 45 & 51\\\\\n",
       "\t 30 & f & b  & i &  5 & 6 & 50 & 49\\\\\n",
       "\t 31 & m & b  & o &  1 & 9 & 72 & 71\\\\\n",
       "\t 32 & f & b  & i &  7 & 3 & 55 & 60\\\\\n",
       "\t 33 & m & c  & i &  7 & 4 & 79 & 77\\\\\n",
       "\t 34 & f & c  & o &  4 & 7 & 60 & 58\\\\\n",
       "\t 35 & f & b  & i &  8 & 3 & 53 & 67\\\\\n",
       "\t 36 & m & a  & o &  5 & 7 & 57 & 72\\\\\n",
       "\\end{tabular}\n"
      ],
      "text/markdown": [
       "\n",
       "A data.frame: 36 × 8\n",
       "\n",
       "| id &lt;int&gt; | sex &lt;chr&gt; | birthplace &lt;chr&gt; | in_out &lt;chr&gt; | television &lt;int&gt; | sociability &lt;int&gt; | before &lt;int&gt; | after &lt;int&gt; |\n",
       "|---|---|---|---|---|---|---|---|\n",
       "|  1 | f | a  | i |  7 | 5 | 49 | 71 |\n",
       "|  2 | f | b  | i |  1 | 7 | 47 | 68 |\n",
       "|  3 | f | c  | o |  1 | 8 | 57 | 81 |\n",
       "|  4 | f | b  | o |  3 | 8 | 52 | 71 |\n",
       "|  5 | f | c  | o | NA | 9 | 53 | 61 |\n",
       "|  6 | m | a  | i |  6 | 5 | 63 | 66 |\n",
       "|  7 | f | a  | o |  4 | 6 | 56 | 70 |\n",
       "|  8 | m | c  | o |  5 | 3 | 65 | 64 |\n",
       "|  9 | m | b  | o |  3 | 5 | 75 | 74 |\n",
       "| 10 | m | a  | i |  4 | 3 | NA | 78 |\n",
       "| 11 | f | a  | i |  8 | 3 | 55 | 66 |\n",
       "| 12 | f | a  | i |  6 | 5 | 61 | 71 |\n",
       "| 13 | m | b  | i |  2 | 3 | 70 | 68 |\n",
       "| 14 | m | b  | i |  5 | 2 | 69 | 65 |\n",
       "| 15 | m | a  | i |  3 | 5 | 65 | 71 |\n",
       "| 16 | f | b  | i |  4 | 3 | 60 | 59 |\n",
       "| 17 | m | b  | i |  5 | 3 | 70 | 62 |\n",
       "| 18 | m | c  | o |  2 | 6 | 63 | 61 |\n",
       "| 19 | m | c  | o |  1 | 7 | 68 | 66 |\n",
       "| 20 | f | c  | o |  4 | 3 | 54 | 53 |\n",
       "| 21 | f | NA | o |  2 | 8 | 60 | 78 |\n",
       "| 22 | m | a  | i |  7 | 3 | 69 | 68 |\n",
       "| 23 | m | c  | o |  2 | 8 | 64 | 65 |\n",
       "| 24 | f | a  | o |  7 | 4 | 52 | 67 |\n",
       "| 25 | m | a  | o |  3 | 6 | 58 | 69 |\n",
       "| 26 | m | c  | o |  1 | 7 | 65 | 71 |\n",
       "| 27 | m | b  | o |  1 | 8 | 64 | 79 |\n",
       "| 28 | f | c  | o |  4 | 4 | 59 | 64 |\n",
       "| 29 | f | c  | i |  3 | 6 | 45 | 51 |\n",
       "| 30 | f | b  | i |  5 | 6 | 50 | 49 |\n",
       "| 31 | m | b  | o |  1 | 9 | 72 | 71 |\n",
       "| 32 | f | b  | i |  7 | 3 | 55 | 60 |\n",
       "| 33 | m | c  | i |  7 | 4 | 79 | 77 |\n",
       "| 34 | f | c  | o |  4 | 7 | 60 | 58 |\n",
       "| 35 | f | b  | i |  8 | 3 | 53 | 67 |\n",
       "| 36 | m | a  | o |  5 | 7 | 57 | 72 |\n",
       "\n"
      ],
      "text/plain": [
       "   id sex birthplace in_out television sociability before after\n",
       "1   1 f   a          i       7         5           49     71   \n",
       "2   2 f   b          i       1         7           47     68   \n",
       "3   3 f   c          o       1         8           57     81   \n",
       "4   4 f   b          o       3         8           52     71   \n",
       "5   5 f   c          o      NA         9           53     61   \n",
       "6   6 m   a          i       6         5           63     66   \n",
       "7   7 f   a          o       4         6           56     70   \n",
       "8   8 m   c          o       5         3           65     64   \n",
       "9   9 m   b          o       3         5           75     74   \n",
       "10 10 m   a          i       4         3           NA     78   \n",
       "11 11 f   a          i       8         3           55     66   \n",
       "12 12 f   a          i       6         5           61     71   \n",
       "13 13 m   b          i       2         3           70     68   \n",
       "14 14 m   b          i       5         2           69     65   \n",
       "15 15 m   a          i       3         5           65     71   \n",
       "16 16 f   b          i       4         3           60     59   \n",
       "17 17 m   b          i       5         3           70     62   \n",
       "18 18 m   c          o       2         6           63     61   \n",
       "19 19 m   c          o       1         7           68     66   \n",
       "20 20 f   c          o       4         3           54     53   \n",
       "21 21 f   NA         o       2         8           60     78   \n",
       "22 22 m   a          i       7         3           69     68   \n",
       "23 23 m   c          o       2         8           64     65   \n",
       "24 24 f   a          o       7         4           52     67   \n",
       "25 25 m   a          o       3         6           58     69   \n",
       "26 26 m   c          o       1         7           65     71   \n",
       "27 27 m   b          o       1         8           64     79   \n",
       "28 28 f   c          o       4         4           59     64   \n",
       "29 29 f   c          i       3         6           45     51   \n",
       "30 30 f   b          i       5         6           50     49   \n",
       "31 31 m   b          o       1         9           72     71   \n",
       "32 32 f   b          i       7         3           55     60   \n",
       "33 33 m   c          i       7         4           79     77   \n",
       "34 34 f   c          o       4         7           60     58   \n",
       "35 35 f   b          i       8         3           53     67   \n",
       "36 36 m   a          o       5         7           57     72   "
      ]
     },
     "metadata": {},
     "output_type": "display_data"
    }
   ],
   "source": [
    "df_na_strings = read.csv('./sample_missing.csv', na.strings=\"\")\n",
    "df_na_strings"
   ]
  },
  {
   "cell_type": "code",
   "execution_count": 24,
   "id": "53423c70",
   "metadata": {},
   "outputs": [
    {
     "data": {
      "text/html": [
       "<table class=\"dataframe\">\n",
       "<caption>A data.frame: 33 × 8</caption>\n",
       "<thead>\n",
       "\t<tr><th></th><th scope=col>id</th><th scope=col>sex</th><th scope=col>birthplace</th><th scope=col>in_out</th><th scope=col>television</th><th scope=col>sociability</th><th scope=col>before</th><th scope=col>after</th></tr>\n",
       "\t<tr><th></th><th scope=col>&lt;int&gt;</th><th scope=col>&lt;chr&gt;</th><th scope=col>&lt;chr&gt;</th><th scope=col>&lt;chr&gt;</th><th scope=col>&lt;int&gt;</th><th scope=col>&lt;int&gt;</th><th scope=col>&lt;int&gt;</th><th scope=col>&lt;int&gt;</th></tr>\n",
       "</thead>\n",
       "<tbody>\n",
       "\t<tr><th scope=row>1</th><td> 1</td><td>f</td><td>a</td><td>i</td><td>7</td><td>5</td><td>49</td><td>71</td></tr>\n",
       "\t<tr><th scope=row>2</th><td> 2</td><td>f</td><td>b</td><td>i</td><td>1</td><td>7</td><td>47</td><td>68</td></tr>\n",
       "\t<tr><th scope=row>3</th><td> 3</td><td>f</td><td>c</td><td>o</td><td>1</td><td>8</td><td>57</td><td>81</td></tr>\n",
       "\t<tr><th scope=row>4</th><td> 4</td><td>f</td><td>b</td><td>o</td><td>3</td><td>8</td><td>52</td><td>71</td></tr>\n",
       "\t<tr><th scope=row>6</th><td> 6</td><td>m</td><td>a</td><td>i</td><td>6</td><td>5</td><td>63</td><td>66</td></tr>\n",
       "\t<tr><th scope=row>7</th><td> 7</td><td>f</td><td>a</td><td>o</td><td>4</td><td>6</td><td>56</td><td>70</td></tr>\n",
       "\t<tr><th scope=row>8</th><td> 8</td><td>m</td><td>c</td><td>o</td><td>5</td><td>3</td><td>65</td><td>64</td></tr>\n",
       "\t<tr><th scope=row>9</th><td> 9</td><td>m</td><td>b</td><td>o</td><td>3</td><td>5</td><td>75</td><td>74</td></tr>\n",
       "\t<tr><th scope=row>11</th><td>11</td><td>f</td><td>a</td><td>i</td><td>8</td><td>3</td><td>55</td><td>66</td></tr>\n",
       "\t<tr><th scope=row>12</th><td>12</td><td>f</td><td>a</td><td>i</td><td>6</td><td>5</td><td>61</td><td>71</td></tr>\n",
       "\t<tr><th scope=row>13</th><td>13</td><td>m</td><td>b</td><td>i</td><td>2</td><td>3</td><td>70</td><td>68</td></tr>\n",
       "\t<tr><th scope=row>14</th><td>14</td><td>m</td><td>b</td><td>i</td><td>5</td><td>2</td><td>69</td><td>65</td></tr>\n",
       "\t<tr><th scope=row>15</th><td>15</td><td>m</td><td>a</td><td>i</td><td>3</td><td>5</td><td>65</td><td>71</td></tr>\n",
       "\t<tr><th scope=row>16</th><td>16</td><td>f</td><td>b</td><td>i</td><td>4</td><td>3</td><td>60</td><td>59</td></tr>\n",
       "\t<tr><th scope=row>17</th><td>17</td><td>m</td><td>b</td><td>i</td><td>5</td><td>3</td><td>70</td><td>62</td></tr>\n",
       "\t<tr><th scope=row>18</th><td>18</td><td>m</td><td>c</td><td>o</td><td>2</td><td>6</td><td>63</td><td>61</td></tr>\n",
       "\t<tr><th scope=row>19</th><td>19</td><td>m</td><td>c</td><td>o</td><td>1</td><td>7</td><td>68</td><td>66</td></tr>\n",
       "\t<tr><th scope=row>20</th><td>20</td><td>f</td><td>c</td><td>o</td><td>4</td><td>3</td><td>54</td><td>53</td></tr>\n",
       "\t<tr><th scope=row>22</th><td>22</td><td>m</td><td>a</td><td>i</td><td>7</td><td>3</td><td>69</td><td>68</td></tr>\n",
       "\t<tr><th scope=row>23</th><td>23</td><td>m</td><td>c</td><td>o</td><td>2</td><td>8</td><td>64</td><td>65</td></tr>\n",
       "\t<tr><th scope=row>24</th><td>24</td><td>f</td><td>a</td><td>o</td><td>7</td><td>4</td><td>52</td><td>67</td></tr>\n",
       "\t<tr><th scope=row>25</th><td>25</td><td>m</td><td>a</td><td>o</td><td>3</td><td>6</td><td>58</td><td>69</td></tr>\n",
       "\t<tr><th scope=row>26</th><td>26</td><td>m</td><td>c</td><td>o</td><td>1</td><td>7</td><td>65</td><td>71</td></tr>\n",
       "\t<tr><th scope=row>27</th><td>27</td><td>m</td><td>b</td><td>o</td><td>1</td><td>8</td><td>64</td><td>79</td></tr>\n",
       "\t<tr><th scope=row>28</th><td>28</td><td>f</td><td>c</td><td>o</td><td>4</td><td>4</td><td>59</td><td>64</td></tr>\n",
       "\t<tr><th scope=row>29</th><td>29</td><td>f</td><td>c</td><td>i</td><td>3</td><td>6</td><td>45</td><td>51</td></tr>\n",
       "\t<tr><th scope=row>30</th><td>30</td><td>f</td><td>b</td><td>i</td><td>5</td><td>6</td><td>50</td><td>49</td></tr>\n",
       "\t<tr><th scope=row>31</th><td>31</td><td>m</td><td>b</td><td>o</td><td>1</td><td>9</td><td>72</td><td>71</td></tr>\n",
       "\t<tr><th scope=row>32</th><td>32</td><td>f</td><td>b</td><td>i</td><td>7</td><td>3</td><td>55</td><td>60</td></tr>\n",
       "\t<tr><th scope=row>33</th><td>33</td><td>m</td><td>c</td><td>i</td><td>7</td><td>4</td><td>79</td><td>77</td></tr>\n",
       "\t<tr><th scope=row>34</th><td>34</td><td>f</td><td>c</td><td>o</td><td>4</td><td>7</td><td>60</td><td>58</td></tr>\n",
       "\t<tr><th scope=row>35</th><td>35</td><td>f</td><td>b</td><td>i</td><td>8</td><td>3</td><td>53</td><td>67</td></tr>\n",
       "\t<tr><th scope=row>36</th><td>36</td><td>m</td><td>a</td><td>o</td><td>5</td><td>7</td><td>57</td><td>72</td></tr>\n",
       "</tbody>\n",
       "</table>\n"
      ],
      "text/latex": [
       "A data.frame: 33 × 8\n",
       "\\begin{tabular}{r|llllllll}\n",
       "  & id & sex & birthplace & in\\_out & television & sociability & before & after\\\\\n",
       "  & <int> & <chr> & <chr> & <chr> & <int> & <int> & <int> & <int>\\\\\n",
       "\\hline\n",
       "\t1 &  1 & f & a & i & 7 & 5 & 49 & 71\\\\\n",
       "\t2 &  2 & f & b & i & 1 & 7 & 47 & 68\\\\\n",
       "\t3 &  3 & f & c & o & 1 & 8 & 57 & 81\\\\\n",
       "\t4 &  4 & f & b & o & 3 & 8 & 52 & 71\\\\\n",
       "\t6 &  6 & m & a & i & 6 & 5 & 63 & 66\\\\\n",
       "\t7 &  7 & f & a & o & 4 & 6 & 56 & 70\\\\\n",
       "\t8 &  8 & m & c & o & 5 & 3 & 65 & 64\\\\\n",
       "\t9 &  9 & m & b & o & 3 & 5 & 75 & 74\\\\\n",
       "\t11 & 11 & f & a & i & 8 & 3 & 55 & 66\\\\\n",
       "\t12 & 12 & f & a & i & 6 & 5 & 61 & 71\\\\\n",
       "\t13 & 13 & m & b & i & 2 & 3 & 70 & 68\\\\\n",
       "\t14 & 14 & m & b & i & 5 & 2 & 69 & 65\\\\\n",
       "\t15 & 15 & m & a & i & 3 & 5 & 65 & 71\\\\\n",
       "\t16 & 16 & f & b & i & 4 & 3 & 60 & 59\\\\\n",
       "\t17 & 17 & m & b & i & 5 & 3 & 70 & 62\\\\\n",
       "\t18 & 18 & m & c & o & 2 & 6 & 63 & 61\\\\\n",
       "\t19 & 19 & m & c & o & 1 & 7 & 68 & 66\\\\\n",
       "\t20 & 20 & f & c & o & 4 & 3 & 54 & 53\\\\\n",
       "\t22 & 22 & m & a & i & 7 & 3 & 69 & 68\\\\\n",
       "\t23 & 23 & m & c & o & 2 & 8 & 64 & 65\\\\\n",
       "\t24 & 24 & f & a & o & 7 & 4 & 52 & 67\\\\\n",
       "\t25 & 25 & m & a & o & 3 & 6 & 58 & 69\\\\\n",
       "\t26 & 26 & m & c & o & 1 & 7 & 65 & 71\\\\\n",
       "\t27 & 27 & m & b & o & 1 & 8 & 64 & 79\\\\\n",
       "\t28 & 28 & f & c & o & 4 & 4 & 59 & 64\\\\\n",
       "\t29 & 29 & f & c & i & 3 & 6 & 45 & 51\\\\\n",
       "\t30 & 30 & f & b & i & 5 & 6 & 50 & 49\\\\\n",
       "\t31 & 31 & m & b & o & 1 & 9 & 72 & 71\\\\\n",
       "\t32 & 32 & f & b & i & 7 & 3 & 55 & 60\\\\\n",
       "\t33 & 33 & m & c & i & 7 & 4 & 79 & 77\\\\\n",
       "\t34 & 34 & f & c & o & 4 & 7 & 60 & 58\\\\\n",
       "\t35 & 35 & f & b & i & 8 & 3 & 53 & 67\\\\\n",
       "\t36 & 36 & m & a & o & 5 & 7 & 57 & 72\\\\\n",
       "\\end{tabular}\n"
      ],
      "text/markdown": [
       "\n",
       "A data.frame: 33 × 8\n",
       "\n",
       "| <!--/--> | id &lt;int&gt; | sex &lt;chr&gt; | birthplace &lt;chr&gt; | in_out &lt;chr&gt; | television &lt;int&gt; | sociability &lt;int&gt; | before &lt;int&gt; | after &lt;int&gt; |\n",
       "|---|---|---|---|---|---|---|---|---|\n",
       "| 1 |  1 | f | a | i | 7 | 5 | 49 | 71 |\n",
       "| 2 |  2 | f | b | i | 1 | 7 | 47 | 68 |\n",
       "| 3 |  3 | f | c | o | 1 | 8 | 57 | 81 |\n",
       "| 4 |  4 | f | b | o | 3 | 8 | 52 | 71 |\n",
       "| 6 |  6 | m | a | i | 6 | 5 | 63 | 66 |\n",
       "| 7 |  7 | f | a | o | 4 | 6 | 56 | 70 |\n",
       "| 8 |  8 | m | c | o | 5 | 3 | 65 | 64 |\n",
       "| 9 |  9 | m | b | o | 3 | 5 | 75 | 74 |\n",
       "| 11 | 11 | f | a | i | 8 | 3 | 55 | 66 |\n",
       "| 12 | 12 | f | a | i | 6 | 5 | 61 | 71 |\n",
       "| 13 | 13 | m | b | i | 2 | 3 | 70 | 68 |\n",
       "| 14 | 14 | m | b | i | 5 | 2 | 69 | 65 |\n",
       "| 15 | 15 | m | a | i | 3 | 5 | 65 | 71 |\n",
       "| 16 | 16 | f | b | i | 4 | 3 | 60 | 59 |\n",
       "| 17 | 17 | m | b | i | 5 | 3 | 70 | 62 |\n",
       "| 18 | 18 | m | c | o | 2 | 6 | 63 | 61 |\n",
       "| 19 | 19 | m | c | o | 1 | 7 | 68 | 66 |\n",
       "| 20 | 20 | f | c | o | 4 | 3 | 54 | 53 |\n",
       "| 22 | 22 | m | a | i | 7 | 3 | 69 | 68 |\n",
       "| 23 | 23 | m | c | o | 2 | 8 | 64 | 65 |\n",
       "| 24 | 24 | f | a | o | 7 | 4 | 52 | 67 |\n",
       "| 25 | 25 | m | a | o | 3 | 6 | 58 | 69 |\n",
       "| 26 | 26 | m | c | o | 1 | 7 | 65 | 71 |\n",
       "| 27 | 27 | m | b | o | 1 | 8 | 64 | 79 |\n",
       "| 28 | 28 | f | c | o | 4 | 4 | 59 | 64 |\n",
       "| 29 | 29 | f | c | i | 3 | 6 | 45 | 51 |\n",
       "| 30 | 30 | f | b | i | 5 | 6 | 50 | 49 |\n",
       "| 31 | 31 | m | b | o | 1 | 9 | 72 | 71 |\n",
       "| 32 | 32 | f | b | i | 7 | 3 | 55 | 60 |\n",
       "| 33 | 33 | m | c | i | 7 | 4 | 79 | 77 |\n",
       "| 34 | 34 | f | c | o | 4 | 7 | 60 | 58 |\n",
       "| 35 | 35 | f | b | i | 8 | 3 | 53 | 67 |\n",
       "| 36 | 36 | m | a | o | 5 | 7 | 57 | 72 |\n",
       "\n"
      ],
      "text/plain": [
       "   id sex birthplace in_out television sociability before after\n",
       "1   1 f   a          i      7          5           49     71   \n",
       "2   2 f   b          i      1          7           47     68   \n",
       "3   3 f   c          o      1          8           57     81   \n",
       "4   4 f   b          o      3          8           52     71   \n",
       "6   6 m   a          i      6          5           63     66   \n",
       "7   7 f   a          o      4          6           56     70   \n",
       "8   8 m   c          o      5          3           65     64   \n",
       "9   9 m   b          o      3          5           75     74   \n",
       "11 11 f   a          i      8          3           55     66   \n",
       "12 12 f   a          i      6          5           61     71   \n",
       "13 13 m   b          i      2          3           70     68   \n",
       "14 14 m   b          i      5          2           69     65   \n",
       "15 15 m   a          i      3          5           65     71   \n",
       "16 16 f   b          i      4          3           60     59   \n",
       "17 17 m   b          i      5          3           70     62   \n",
       "18 18 m   c          o      2          6           63     61   \n",
       "19 19 m   c          o      1          7           68     66   \n",
       "20 20 f   c          o      4          3           54     53   \n",
       "22 22 m   a          i      7          3           69     68   \n",
       "23 23 m   c          o      2          8           64     65   \n",
       "24 24 f   a          o      7          4           52     67   \n",
       "25 25 m   a          o      3          6           58     69   \n",
       "26 26 m   c          o      1          7           65     71   \n",
       "27 27 m   b          o      1          8           64     79   \n",
       "28 28 f   c          o      4          4           59     64   \n",
       "29 29 f   c          i      3          6           45     51   \n",
       "30 30 f   b          i      5          6           50     49   \n",
       "31 31 m   b          o      1          9           72     71   \n",
       "32 32 f   b          i      7          3           55     60   \n",
       "33 33 m   c          i      7          4           79     77   \n",
       "34 34 f   c          o      4          7           60     58   \n",
       "35 35 f   b          i      8          3           53     67   \n",
       "36 36 m   a          o      5          7           57     72   "
      ]
     },
     "metadata": {},
     "output_type": "display_data"
    }
   ],
   "source": [
    "df_na_strings_omit = na.omit(df_na_strings)\n",
    "df_na_strings_omit"
   ]
  },
  {
   "cell_type": "code",
   "execution_count": 25,
   "id": "90302612",
   "metadata": {},
   "outputs": [
    {
     "data": {
      "text/html": [
       "36"
      ],
      "text/latex": [
       "36"
      ],
      "text/markdown": [
       "36"
      ],
      "text/plain": [
       "[1] 36"
      ]
     },
     "metadata": {},
     "output_type": "display_data"
    },
    {
     "data": {
      "text/html": [
       "34"
      ],
      "text/latex": [
       "34"
      ],
      "text/markdown": [
       "34"
      ],
      "text/plain": [
       "[1] 34"
      ]
     },
     "metadata": {},
     "output_type": "display_data"
    },
    {
     "data": {
      "text/html": [
       "36"
      ],
      "text/latex": [
       "36"
      ],
      "text/markdown": [
       "36"
      ],
      "text/plain": [
       "[1] 36"
      ]
     },
     "metadata": {},
     "output_type": "display_data"
    },
    {
     "data": {
      "text/html": [
       "33"
      ],
      "text/latex": [
       "33"
      ],
      "text/markdown": [
       "33"
      ],
      "text/plain": [
       "[1] 33"
      ]
     },
     "metadata": {},
     "output_type": "display_data"
    }
   ],
   "source": [
    "nrow(df)\n",
    "nrow(df_omit)\n",
    "nrow(df_na_strings)\n",
    "nrow(df_na_strings_omit)"
   ]
  },
  {
   "cell_type": "markdown",
   "id": "180cea78",
   "metadata": {},
   "source": [
    "## calculation the correlation coefficient from data with missing values"
   ]
  },
  {
   "cell_type": "code",
   "execution_count": 27,
   "id": "6ca07ac1",
   "metadata": {},
   "outputs": [
    {
     "data": {
      "text/html": [
       "&lt;NA&gt;"
      ],
      "text/latex": [
       "<NA>"
      ],
      "text/markdown": [
       "&lt;NA&gt;"
      ],
      "text/plain": [
       "[1] NA"
      ]
     },
     "metadata": {},
     "output_type": "display_data"
    },
    {
     "data": {
      "text/html": [
       "-0.675391737852184"
      ],
      "text/latex": [
       "-0.675391737852184"
      ],
      "text/markdown": [
       "-0.675391737852184"
      ],
      "text/plain": [
       "[1] -0.6753917"
      ]
     },
     "metadata": {},
     "output_type": "display_data"
    }
   ],
   "source": [
    "cor(df$television, df$sociability)\n",
    "cor(df$television, df$sociability, use='complete.obs') # complete observation"
   ]
  },
  {
   "cell_type": "code",
   "execution_count": 28,
   "id": "60a01c06",
   "metadata": {},
   "outputs": [
    {
     "data": {
      "text/html": [
       "-0.688886750081699"
      ],
      "text/latex": [
       "-0.688886750081699"
      ],
      "text/markdown": [
       "-0.688886750081699"
      ],
      "text/plain": [
       "[1] -0.6888868"
      ]
     },
     "metadata": {},
     "output_type": "display_data"
    }
   ],
   "source": [
    "cor(df_omit$television, df_omit$sociability)"
   ]
  },
  {
   "cell_type": "code",
   "execution_count": 29,
   "id": "804762b0",
   "metadata": {},
   "outputs": [
    {
     "data": {
      "text/html": [
       "&lt;NA&gt;"
      ],
      "text/latex": [
       "<NA>"
      ],
      "text/markdown": [
       "&lt;NA&gt;"
      ],
      "text/plain": [
       "[1] NA"
      ]
     },
     "metadata": {},
     "output_type": "display_data"
    },
    {
     "data": {
      "text/html": [
       "-0.678762982300916"
      ],
      "text/latex": [
       "-0.678762982300916"
      ],
      "text/markdown": [
       "-0.678762982300916"
      ],
      "text/plain": [
       "[1] -0.678763"
      ]
     },
     "metadata": {},
     "output_type": "display_data"
    }
   ],
   "source": [
    "cor(df_na_strings$television, df_na_strings$sociability)\n",
    "cor(df_na_strings_omit$television, df_na_strings_omit$sociability)"
   ]
  }
 ],
 "metadata": {
  "kernelspec": {
   "display_name": "R",
   "language": "R",
   "name": "ir"
  },
  "language_info": {
   "codemirror_mode": "r",
   "file_extension": ".r",
   "mimetype": "text/x-r-source",
   "name": "R",
   "pygments_lexer": "r",
   "version": "4.0.3"
  }
 },
 "nbformat": 4,
 "nbformat_minor": 5
}
